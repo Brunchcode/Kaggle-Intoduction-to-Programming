{
 "cells": [
  {
   "cell_type": "markdown",
   "id": "c9f05198",
   "metadata": {
    "papermill": {
     "duration": 0.008026,
     "end_time": "2022-07-17T00:13:37.441012",
     "exception": false,
     "start_time": "2022-07-17T00:13:37.432986",
     "status": "completed"
    },
    "tags": []
   },
   "source": [
    "**This notebook is an exercise in the [Intro to Programming](https://www.kaggle.com/learn/intro-to-programming) course.  You can reference the tutorial at [this link](https://www.kaggle.com/alexisbcook/intro-to-lists).**\n",
    "\n",
    "---\n"
   ]
  },
  {
   "cell_type": "markdown",
   "id": "157ddf2e",
   "metadata": {
    "papermill": {
     "duration": 0.00685,
     "end_time": "2022-07-17T00:13:37.455059",
     "exception": false,
     "start_time": "2022-07-17T00:13:37.448209",
     "status": "completed"
    },
    "tags": []
   },
   "source": [
    "In the tutorial, you learned how to define and modify Python lists.  In this exercise, you will use your new knowledge to solve several problems.\n",
    "\n",
    "# Set up the notebook\n",
    "\n",
    "Run the next code cell without changes to set up the notebook."
   ]
  },
  {
   "cell_type": "code",
   "execution_count": 1,
   "id": "e44f1868",
   "metadata": {
    "execution": {
     "iopub.execute_input": "2022-07-17T00:13:37.472128Z",
     "iopub.status.busy": "2022-07-17T00:13:37.471282Z",
     "iopub.status.idle": "2022-07-17T00:13:37.525320Z",
     "shell.execute_reply": "2022-07-17T00:13:37.524148Z"
    },
    "papermill": {
     "duration": 0.065345,
     "end_time": "2022-07-17T00:13:37.528032",
     "exception": false,
     "start_time": "2022-07-17T00:13:37.462687",
     "status": "completed"
    },
    "tags": []
   },
   "outputs": [
    {
     "name": "stdout",
     "output_type": "stream",
     "text": [
      "Setup complete.\n"
     ]
    }
   ],
   "source": [
    "from learntools.core import binder\n",
    "binder.bind(globals())\n",
    "from learntools.intro_to_programming.ex5 import *\n",
    "print('Setup complete.')"
   ]
  },
  {
   "cell_type": "markdown",
   "id": "910cc7c0",
   "metadata": {
    "papermill": {
     "duration": 0.006772,
     "end_time": "2022-07-17T00:13:37.542304",
     "exception": false,
     "start_time": "2022-07-17T00:13:37.535532",
     "status": "completed"
    },
    "tags": []
   },
   "source": [
    "# Question 1\n",
    "\n",
    "You own a restaurant with five food dishes, organized in the Python list `menu` below.  One day, you decide to:\n",
    "- remove bean soup (`'bean soup'`) from the menu, and\n",
    "- add roasted beet salad (`'roasted beet salad'`) to the menu.\n",
    "\n",
    "Implement this change to the list below.  While completing this task, \n",
    "- do not change the line that creates the `menu` list.  \n",
    "- your answer should use `.remove()` and `.append()`.  "
   ]
  },
  {
   "cell_type": "code",
   "execution_count": 2,
   "id": "d9718f71",
   "metadata": {
    "execution": {
     "iopub.execute_input": "2022-07-17T00:13:37.558481Z",
     "iopub.status.busy": "2022-07-17T00:13:37.557887Z",
     "iopub.status.idle": "2022-07-17T00:13:37.568027Z",
     "shell.execute_reply": "2022-07-17T00:13:37.567169Z"
    },
    "papermill": {
     "duration": 0.020844,
     "end_time": "2022-07-17T00:13:37.570161",
     "exception": false,
     "start_time": "2022-07-17T00:13:37.549317",
     "status": "completed"
    },
    "tags": []
   },
   "outputs": [
    {
     "data": {
      "application/javascript": [
       "parent.postMessage({\"jupyterEvent\": \"custom.exercise_interaction\", \"data\": {\"outcomeType\": 1, \"valueTowardsCompletion\": 0.2, \"interactionType\": 1, \"questionType\": 2, \"questionId\": \"1_FoodMenu\", \"learnToolsVersion\": \"0.3.4\", \"failureMessage\": \"\", \"exceptionClass\": \"\", \"trace\": \"\"}}, \"*\")"
      ],
      "text/plain": [
       "<IPython.core.display.Javascript object>"
      ]
     },
     "metadata": {},
     "output_type": "display_data"
    },
    {
     "data": {
      "text/markdown": [
       "<span style=\"color:#33cc33\">Correct</span>"
      ],
      "text/plain": [
       "Correct"
      ]
     },
     "metadata": {},
     "output_type": "display_data"
    }
   ],
   "source": [
    "# Do not change: Initial menu for your restaurant\n",
    "menu = ['stewed meat with onions', 'bean soup', 'risotto with trout and shrimp',\n",
    "       'fish soup with cream and onion', 'gyro']\n",
    "\n",
    "# TODO: remove 'bean soup', and add 'roasted beet salad' to the end of the menu\n",
    "menu.remove(\"bean soup\")\n",
    "menu.append(\"roasted beet salad\")\n",
    "\n",
    "# Do not change: Check your answer\n",
    "q1.check()"
   ]
  },
  {
   "cell_type": "code",
   "execution_count": 3,
   "id": "6685cecb",
   "metadata": {
    "execution": {
     "iopub.execute_input": "2022-07-17T00:13:37.586873Z",
     "iopub.status.busy": "2022-07-17T00:13:37.586424Z",
     "iopub.status.idle": "2022-07-17T00:13:37.591148Z",
     "shell.execute_reply": "2022-07-17T00:13:37.589839Z"
    },
    "papermill": {
     "duration": 0.016018,
     "end_time": "2022-07-17T00:13:37.593515",
     "exception": false,
     "start_time": "2022-07-17T00:13:37.577497",
     "status": "completed"
    },
    "tags": []
   },
   "outputs": [],
   "source": [
    "# Uncomment to see a hint\n",
    "#q1.hint()\n",
    "\n",
    "# Uncomment to see the solution\n",
    "#q1.solution()"
   ]
  },
  {
   "cell_type": "markdown",
   "id": "63da5d1f",
   "metadata": {
    "papermill": {
     "duration": 0.00705,
     "end_time": "2022-07-17T00:13:37.608258",
     "exception": false,
     "start_time": "2022-07-17T00:13:37.601208",
     "status": "completed"
    },
    "tags": []
   },
   "source": [
    "# Question 2\n",
    "\n",
    "The list `num_customers` contains the number of customers who came into your restaurant every day over the last month (which lasted thirty days).  Fill in values for each of the following:\n",
    "- `avg_first_seven` - average number of customers who visited in the first seven days\n",
    "- `avg_last_seven` - average number of customers who visited in the last seven days\n",
    "- `max_month` - number of customers on the day that got the most customers in the last month\n",
    "- `min_month` - number of customers on the day that got the least customers in the last month\n",
    "\n",
    "Answer this question by writing code.  For instance, if you have to find the minimum value in a list, use `min()` instead of scanning for the smallest value and directly filling in a number."
   ]
  },
  {
   "cell_type": "code",
   "execution_count": 4,
   "id": "ee910c9f",
   "metadata": {
    "execution": {
     "iopub.execute_input": "2022-07-17T00:13:37.624405Z",
     "iopub.status.busy": "2022-07-17T00:13:37.624042Z",
     "iopub.status.idle": "2022-07-17T00:13:37.635850Z",
     "shell.execute_reply": "2022-07-17T00:13:37.634592Z"
    },
    "papermill": {
     "duration": 0.02243,
     "end_time": "2022-07-17T00:13:37.637966",
     "exception": false,
     "start_time": "2022-07-17T00:13:37.615536",
     "status": "completed"
    },
    "tags": []
   },
   "outputs": [
    {
     "data": {
      "application/javascript": [
       "parent.postMessage({\"jupyterEvent\": \"custom.exercise_interaction\", \"data\": {\"outcomeType\": 1, \"valueTowardsCompletion\": 0.2, \"interactionType\": 1, \"questionType\": 1, \"questionId\": \"2_NumCustomers\", \"learnToolsVersion\": \"0.3.4\", \"failureMessage\": \"\", \"exceptionClass\": \"\", \"trace\": \"\"}}, \"*\")"
      ],
      "text/plain": [
       "<IPython.core.display.Javascript object>"
      ]
     },
     "metadata": {},
     "output_type": "display_data"
    },
    {
     "data": {
      "text/markdown": [
       "<span style=\"color:#33cc33\">Correct</span>"
      ],
      "text/plain": [
       "Correct"
      ]
     },
     "metadata": {},
     "output_type": "display_data"
    }
   ],
   "source": [
    "# Do not change: Number of customers each day for the last month\n",
    "num_customers = [137, 147, 135, 128, 170, 174, 165, 146, 126, 159,\n",
    "                 141, 148, 132, 147, 168, 153, 170, 161, 148, 152,\n",
    "                 141, 151, 131, 149, 164, 163, 143, 143, 166, 171]\n",
    "\n",
    "# TODO: Fill in values for the variables below\n",
    "avg_first_seven = sum(num_customers[:7]) / 7\n",
    "avg_last_seven = sum(num_customers[-7:]) / 7\n",
    "max_month = max(num_customers)\n",
    "min_month = min(num_customers)\n",
    "\n",
    "# Do not change: Check your answer\n",
    "q2.check()"
   ]
  },
  {
   "cell_type": "code",
   "execution_count": 5,
   "id": "21529bf7",
   "metadata": {
    "execution": {
     "iopub.execute_input": "2022-07-17T00:13:37.655014Z",
     "iopub.status.busy": "2022-07-17T00:13:37.654585Z",
     "iopub.status.idle": "2022-07-17T00:13:37.659098Z",
     "shell.execute_reply": "2022-07-17T00:13:37.657820Z"
    },
    "papermill": {
     "duration": 0.015578,
     "end_time": "2022-07-17T00:13:37.661140",
     "exception": false,
     "start_time": "2022-07-17T00:13:37.645562",
     "status": "completed"
    },
    "tags": []
   },
   "outputs": [],
   "source": [
    "# Uncomment to see a hint\n",
    "#q2.hint()\n",
    "\n",
    "# Uncomment to see the solution\n",
    "#q2.solution()"
   ]
  },
  {
   "cell_type": "markdown",
   "id": "796e23bd",
   "metadata": {
    "papermill": {
     "duration": 0.007231,
     "end_time": "2022-07-17T00:13:37.676042",
     "exception": false,
     "start_time": "2022-07-17T00:13:37.668811",
     "status": "completed"
    },
    "tags": []
   },
   "source": [
    "# Question 3\n",
    "\n",
    "In the tutorial, we gave an example of a Python string with information that was better as a list."
   ]
  },
  {
   "cell_type": "code",
   "execution_count": 6,
   "id": "08f78c5e",
   "metadata": {
    "execution": {
     "iopub.execute_input": "2022-07-17T00:13:37.693615Z",
     "iopub.status.busy": "2022-07-17T00:13:37.692587Z",
     "iopub.status.idle": "2022-07-17T00:13:37.698244Z",
     "shell.execute_reply": "2022-07-17T00:13:37.697086Z"
    },
    "papermill": {
     "duration": 0.01753,
     "end_time": "2022-07-17T00:13:37.701183",
     "exception": false,
     "start_time": "2022-07-17T00:13:37.683653",
     "status": "completed"
    },
    "tags": []
   },
   "outputs": [
    {
     "name": "stdout",
     "output_type": "stream",
     "text": [
      "['pink primrose', 'hard-leaved pocket orchid', 'canterbury bells', 'sweet pea', 'english marigold', 'tiger lily', 'moon orchid', 'bird of paradise', 'monkshood', 'globe thistle']\n"
     ]
    }
   ],
   "source": [
    "flowers = \"pink primrose,hard-leaved pocket orchid,canterbury bells,sweet pea,english marigold,tiger lily,moon orchid,bird of paradise,monkshood,globe thistle\"\n",
    "print(flowers.split(\",\"))"
   ]
  },
  {
   "cell_type": "markdown",
   "id": "251890f2",
   "metadata": {
    "papermill": {
     "duration": 0.007382,
     "end_time": "2022-07-17T00:13:37.716307",
     "exception": false,
     "start_time": "2022-07-17T00:13:37.708925",
     "status": "completed"
    },
    "tags": []
   },
   "source": [
    "You can actually use Python to quickly turn this string into a list with `.split()`.  In the parentheses, we need to provide the character should be used to mark the end of one list item and the beginning of another, and enclose it in quotation marks.  In this case, that character is a comma."
   ]
  },
  {
   "cell_type": "code",
   "execution_count": 7,
   "id": "92c27d7a",
   "metadata": {
    "execution": {
     "iopub.execute_input": "2022-07-17T00:13:37.734552Z",
     "iopub.status.busy": "2022-07-17T00:13:37.733321Z",
     "iopub.status.idle": "2022-07-17T00:13:37.740467Z",
     "shell.execute_reply": "2022-07-17T00:13:37.739189Z"
    },
    "papermill": {
     "duration": 0.019114,
     "end_time": "2022-07-17T00:13:37.743302",
     "exception": false,
     "start_time": "2022-07-17T00:13:37.724188",
     "status": "completed"
    },
    "tags": []
   },
   "outputs": [
    {
     "name": "stdout",
     "output_type": "stream",
     "text": [
      "['pink primrose', 'hard-leaved pocket orchid', 'canterbury bells', 'sweet pea', 'english marigold', 'tiger lily', 'moon orchid', 'bird of paradise', 'monkshood', 'globe thistle']\n"
     ]
    }
   ],
   "source": [
    " print(flowers.split(\",\"))"
   ]
  },
  {
   "cell_type": "markdown",
   "id": "fb3e52bd",
   "metadata": {
    "papermill": {
     "duration": 0.007765,
     "end_time": "2022-07-17T00:13:37.759019",
     "exception": false,
     "start_time": "2022-07-17T00:13:37.751254",
     "status": "completed"
    },
    "tags": []
   },
   "source": [
    "Now it is your turn to try this out!  Create two Python lists:\n",
    "- `letters` should be a Python list where each entry is an uppercase letter of the English alphabet.  For instance, the first two entries should be `\"A\"` and `\"B\"`, and the final two entries should be `\"Y\"` and `\"Z\"`.  Use the string `alphabet` to create this list.\n",
    "- `address` should be a Python list where each row in `address` is a different item in the list.  Currently, each row in `address` is separated by a comma. "
   ]
  },
  {
   "cell_type": "code",
   "execution_count": 8,
   "id": "711d7521",
   "metadata": {
    "execution": {
     "iopub.execute_input": "2022-07-17T00:13:37.776974Z",
     "iopub.status.busy": "2022-07-17T00:13:37.776201Z",
     "iopub.status.idle": "2022-07-17T00:13:37.786473Z",
     "shell.execute_reply": "2022-07-17T00:13:37.785603Z"
    },
    "papermill": {
     "duration": 0.02203,
     "end_time": "2022-07-17T00:13:37.788898",
     "exception": false,
     "start_time": "2022-07-17T00:13:37.766868",
     "status": "completed"
    },
    "tags": []
   },
   "outputs": [
    {
     "data": {
      "application/javascript": [
       "parent.postMessage({\"jupyterEvent\": \"custom.exercise_interaction\", \"data\": {\"outcomeType\": 1, \"valueTowardsCompletion\": 0.2, \"interactionType\": 1, \"questionType\": 1, \"questionId\": \"3_SplitString\", \"learnToolsVersion\": \"0.3.4\", \"failureMessage\": \"\", \"exceptionClass\": \"\", \"trace\": \"\"}}, \"*\")"
      ],
      "text/plain": [
       "<IPython.core.display.Javascript object>"
      ]
     },
     "metadata": {},
     "output_type": "display_data"
    },
    {
     "data": {
      "text/markdown": [
       "<span style=\"color:#33cc33\">Correct</span>"
      ],
      "text/plain": [
       "Correct"
      ]
     },
     "metadata": {},
     "output_type": "display_data"
    }
   ],
   "source": [
    "# DO not change: Define two Python strings\n",
    "alphabet = \"A.B.C.D.E.F.G.H.I.J.K.L.M.N.O.P.Q.R.S.T.U.V.W.X.Y.Z\"\n",
    "address = \"Mr. H. Potter,The cupboard under the Stairs,4 Privet Drive,Little Whinging,Surrey\"\n",
    "\n",
    "# TODO: Convert strings into Python lists\n",
    "letters = alphabet.split(\".\")\n",
    "formatted_address = address.split(\",\")\n",
    "\n",
    "# Do not change: Check your answer\n",
    "q3.check()"
   ]
  },
  {
   "cell_type": "code",
   "execution_count": 9,
   "id": "ae32703a",
   "metadata": {
    "execution": {
     "iopub.execute_input": "2022-07-17T00:13:37.807970Z",
     "iopub.status.busy": "2022-07-17T00:13:37.807210Z",
     "iopub.status.idle": "2022-07-17T00:13:37.811904Z",
     "shell.execute_reply": "2022-07-17T00:13:37.811070Z"
    },
    "papermill": {
     "duration": 0.016566,
     "end_time": "2022-07-17T00:13:37.814128",
     "exception": false,
     "start_time": "2022-07-17T00:13:37.797562",
     "status": "completed"
    },
    "tags": []
   },
   "outputs": [],
   "source": [
    "# Uncomment to see a hint\n",
    "#q3.hint()\n",
    "\n",
    "# Uncomment to see the solution\n",
    "#q3.solution()"
   ]
  },
  {
   "cell_type": "markdown",
   "id": "3e8f584c",
   "metadata": {
    "papermill": {
     "duration": 0.007776,
     "end_time": "2022-07-17T00:13:37.829878",
     "exception": false,
     "start_time": "2022-07-17T00:13:37.822102",
     "status": "completed"
    },
    "tags": []
   },
   "source": [
    "# Question 4\n",
    "\n",
    "In the Python course, you'll learn all about **list comprehensions**, which allow you to create a list based on the values in another list.  In this question, you'll get a brief preview of how they work.\n",
    "\n",
    "Say we're working with the list below."
   ]
  },
  {
   "cell_type": "code",
   "execution_count": 10,
   "id": "ad3ee322",
   "metadata": {
    "execution": {
     "iopub.execute_input": "2022-07-17T00:13:37.848302Z",
     "iopub.status.busy": "2022-07-17T00:13:37.847527Z",
     "iopub.status.idle": "2022-07-17T00:13:37.852654Z",
     "shell.execute_reply": "2022-07-17T00:13:37.851819Z"
    },
    "papermill": {
     "duration": 0.016926,
     "end_time": "2022-07-17T00:13:37.854984",
     "exception": false,
     "start_time": "2022-07-17T00:13:37.838058",
     "status": "completed"
    },
    "tags": []
   },
   "outputs": [],
   "source": [
    "test_ratings = [1, 2, 3, 4, 5]"
   ]
  },
  {
   "cell_type": "markdown",
   "id": "68f24007",
   "metadata": {
    "papermill": {
     "duration": 0.007888,
     "end_time": "2022-07-17T00:13:37.871006",
     "exception": false,
     "start_time": "2022-07-17T00:13:37.863118",
     "status": "completed"
    },
    "tags": []
   },
   "source": [
    "Then we can use this list (`test_ratings`) to create a new list (`test_liked`) where each item has been turned into a boolean, depending on whether or not the item is greater than or equal to four."
   ]
  },
  {
   "cell_type": "code",
   "execution_count": 11,
   "id": "6bb371b2",
   "metadata": {
    "execution": {
     "iopub.execute_input": "2022-07-17T00:13:37.889600Z",
     "iopub.status.busy": "2022-07-17T00:13:37.888851Z",
     "iopub.status.idle": "2022-07-17T00:13:37.896044Z",
     "shell.execute_reply": "2022-07-17T00:13:37.894586Z"
    },
    "papermill": {
     "duration": 0.019514,
     "end_time": "2022-07-17T00:13:37.898729",
     "exception": false,
     "start_time": "2022-07-17T00:13:37.879215",
     "status": "completed"
    },
    "tags": []
   },
   "outputs": [
    {
     "name": "stdout",
     "output_type": "stream",
     "text": [
      "[False, False, False, True, True]\n"
     ]
    }
   ],
   "source": [
    "test_ratings = [1, 2, 3, 4, 5]\n",
    "test_liked = [i>=4 for i in test_ratings]\n",
    "print(test_liked)"
   ]
  },
  {
   "cell_type": "markdown",
   "id": "0ea6fcbd",
   "metadata": {
    "papermill": {
     "duration": 0.00815,
     "end_time": "2022-07-17T00:13:37.915081",
     "exception": false,
     "start_time": "2022-07-17T00:13:37.906931",
     "status": "completed"
    },
    "tags": []
   },
   "source": [
    "In this question, you'll use this list comprehension to define a function `percentage_liked()` that takes one argument as input:\n",
    "- `ratings`: list of ratings that people gave to a movie, where each rating is a number between 1-5, inclusive\n",
    "\n",
    "We say someone liked the movie, if they gave a rating of either 4 or 5.  Your function should return the percentage of people who liked the movie.\n",
    "\n",
    "For instance, if we supply a value of `[1, 2, 3, 4, 5, 4, 5, 1]`, then 50% (4/8) of the people liked the movie, and the function should return `0.5`.\n",
    "\n",
    "Part of the function has already been completed for you.  You need only use `list_liked` to calculate `percentage_liked`."
   ]
  },
  {
   "cell_type": "code",
   "execution_count": 12,
   "id": "d78d8473",
   "metadata": {
    "execution": {
     "iopub.execute_input": "2022-07-17T00:13:37.933635Z",
     "iopub.status.busy": "2022-07-17T00:13:37.933266Z",
     "iopub.status.idle": "2022-07-17T00:13:37.949726Z",
     "shell.execute_reply": "2022-07-17T00:13:37.948606Z"
    },
    "papermill": {
     "duration": 0.028384,
     "end_time": "2022-07-17T00:13:37.951879",
     "exception": false,
     "start_time": "2022-07-17T00:13:37.923495",
     "status": "completed"
    },
    "tags": []
   },
   "outputs": [
    {
     "data": {
      "application/javascript": [
       "parent.postMessage({\"jupyterEvent\": \"custom.exercise_interaction\", \"data\": {\"outcomeType\": 1, \"valueTowardsCompletion\": 0.2, \"interactionType\": 1, \"questionType\": 2, \"questionId\": \"4_PercentageLiked\", \"learnToolsVersion\": \"0.3.4\", \"failureMessage\": \"\", \"exceptionClass\": \"\", \"trace\": \"\"}}, \"*\")"
      ],
      "text/plain": [
       "<IPython.core.display.Javascript object>"
      ]
     },
     "metadata": {},
     "output_type": "display_data"
    },
    {
     "data": {
      "text/markdown": [
       "<span style=\"color:#33cc33\">Correct</span>"
      ],
      "text/plain": [
       "Correct"
      ]
     },
     "metadata": {},
     "output_type": "display_data"
    }
   ],
   "source": [
    "\n",
    "def percentage_liked(ratings):\n",
    "    list_liked = [i>=4 for i in ratings]\n",
    "    sum_true = sum(list_liked)\n",
    "    # TODO: Complete the function\n",
    "    percentage_liked = sum_true / len(ratings)\n",
    "    return percentage_liked\n",
    "\n",
    "# Do not change: should return 0.5\n",
    "percentage_liked([1, 2, 3, 4, 5, 4, 5, 1])\n",
    "\n",
    "# Do not change: Check your answer\n",
    "q4.check()"
   ]
  },
  {
   "cell_type": "code",
   "execution_count": 13,
   "id": "5cff9f43",
   "metadata": {
    "execution": {
     "iopub.execute_input": "2022-07-17T00:13:37.970998Z",
     "iopub.status.busy": "2022-07-17T00:13:37.970332Z",
     "iopub.status.idle": "2022-07-17T00:13:37.974919Z",
     "shell.execute_reply": "2022-07-17T00:13:37.974049Z"
    },
    "papermill": {
     "duration": 0.016888,
     "end_time": "2022-07-17T00:13:37.977182",
     "exception": false,
     "start_time": "2022-07-17T00:13:37.960294",
     "status": "completed"
    },
    "tags": []
   },
   "outputs": [],
   "source": [
    "# Uncomment to see a hint\n",
    "#q4.hint()\n",
    "\n",
    "# Uncomment to see the solution\n",
    "#q4.solution()"
   ]
  },
  {
   "cell_type": "markdown",
   "id": "6123b976",
   "metadata": {
    "papermill": {
     "duration": 0.008204,
     "end_time": "2022-07-17T00:13:37.994064",
     "exception": false,
     "start_time": "2022-07-17T00:13:37.985860",
     "status": "completed"
    },
    "tags": []
   },
   "source": [
    "# 🌶️ Question 5\n",
    " \n",
    "Say you're doing analytics for a website.  You need to write a function that returns the percentage growth in the total number of users relative to a specified number of years ago.\n",
    "\n",
    "Your function `percentage_growth()` should take two arguments as input:\n",
    "- `num_users` = Python list with the total number of users each year.  So `num_users[0]` is the total number of users in the first year, `num_users[1]` is the total number of users in the second year, and so on.  The final entry in the list gives the total number of users in the most recently completed year.\n",
    "- `yrs_ago` = number of years to go back in time when calculating the growth percentage\n",
    "\n",
    "For instance, say `num_users = [920344, 1043553, 1204334, 1458996, 1503323, 1593432, 1623463, 1843064, 1930992, 2001078]`.\n",
    "- if `yrs_ago = 1`, we want the function to return a value of about `0.036`. This corresponds to a percentage growth of approximately 3.6%, calculated as (2001078 - 1930992)/1930992.\n",
    "- if `years_ago = 7`, we would want to return approximately `0.66`.  This corresponds to a percentage growth of approximately 66%, calculated as (2001078 - 1204334)/1204334.\n",
    "\n",
    "Your coworker sent you a draft of a function, but it doesn't seem to be doing the correct calculation.  Can you figure out what has gone wrong and make the needed changes?"
   ]
  },
  {
   "cell_type": "code",
   "execution_count": 14,
   "id": "30dd76e3",
   "metadata": {
    "execution": {
     "iopub.execute_input": "2022-07-17T00:13:38.013223Z",
     "iopub.status.busy": "2022-07-17T00:13:38.012548Z",
     "iopub.status.idle": "2022-07-17T00:13:38.024651Z",
     "shell.execute_reply": "2022-07-17T00:13:38.023829Z"
    },
    "papermill": {
     "duration": 0.024202,
     "end_time": "2022-07-17T00:13:38.026776",
     "exception": false,
     "start_time": "2022-07-17T00:13:38.002574",
     "status": "completed"
    },
    "tags": []
   },
   "outputs": [
    {
     "name": "stdout",
     "output_type": "stream",
     "text": [
      "0.03629533421163837\n",
      "0.6615639847417742\n"
     ]
    },
    {
     "data": {
      "application/javascript": [
       "parent.postMessage({\"jupyterEvent\": \"custom.exercise_interaction\", \"data\": {\"outcomeType\": 1, \"valueTowardsCompletion\": 0.2, \"interactionType\": 1, \"questionType\": 2, \"questionId\": \"5_WebsiteAnalytics\", \"learnToolsVersion\": \"0.3.4\", \"failureMessage\": \"\", \"exceptionClass\": \"\", \"trace\": \"\"}}, \"*\")"
      ],
      "text/plain": [
       "<IPython.core.display.Javascript object>"
      ]
     },
     "metadata": {},
     "output_type": "display_data"
    },
    {
     "data": {
      "text/markdown": [
       "<span style=\"color:#33cc33\">Correct</span>"
      ],
      "text/plain": [
       "Correct"
      ]
     },
     "metadata": {},
     "output_type": "display_data"
    }
   ],
   "source": [
    "# TODO: Edit the function\n",
    "def percentage_growth(num_users, yrs_ago):\n",
    "    final_year_users = len(num_users) - 1\n",
    "    growth = (num_users[final_year_users] - num_users[final_year_users-yrs_ago])/num_users[final_year_users-yrs_ago]\n",
    "    return growth\n",
    "\n",
    "# Do not change: Variable for calculating some test examples\n",
    "num_users_test = [920344, 1043553, 1204334, 1458996, 1503323, 1593432, 1623463, 1843064, 1930992, 2001078]\n",
    "\n",
    "# Do not change: Should return .036\n",
    "print(percentage_growth(num_users_test, 1))\n",
    "\n",
    "# Do not change: Should return 0.66\n",
    "print(percentage_growth(num_users_test, 7))\n",
    "\n",
    "# Do not change: Check your answer\n",
    "q5.check()"
   ]
  },
  {
   "cell_type": "code",
   "execution_count": 15,
   "id": "e9988b9c",
   "metadata": {
    "execution": {
     "iopub.execute_input": "2022-07-17T00:13:38.047209Z",
     "iopub.status.busy": "2022-07-17T00:13:38.046250Z",
     "iopub.status.idle": "2022-07-17T00:13:38.050452Z",
     "shell.execute_reply": "2022-07-17T00:13:38.049624Z"
    },
    "papermill": {
     "duration": 0.016846,
     "end_time": "2022-07-17T00:13:38.052626",
     "exception": false,
     "start_time": "2022-07-17T00:13:38.035780",
     "status": "completed"
    },
    "tags": []
   },
   "outputs": [],
   "source": [
    "# Uncomment to see a hint\n",
    "#q5.hint()\n",
    "\n",
    "# Uncomment to see the solution\n",
    "#q5.solution()"
   ]
  },
  {
   "cell_type": "markdown",
   "id": "ddda12b8",
   "metadata": {
    "papermill": {
     "duration": 0.008957,
     "end_time": "2022-07-17T00:13:38.070542",
     "exception": false,
     "start_time": "2022-07-17T00:13:38.061585",
     "status": "completed"
    },
    "tags": []
   },
   "source": [
    "# Congratulations!\n",
    "\n",
    "Congratulations for finishing the Intro to Programming course!  You should be proud of your very first steps with learning programming.  As next steps, we recommend taking:\n",
    "- the **[Python course](http://www.kaggle.com/learn/python)**, and \n",
    "- the **[Intro to Machine Learning course](https://www.kaggle.com/learn/intro-to-machine-learning)**."
   ]
  },
  {
   "cell_type": "markdown",
   "id": "5a6c51e3",
   "metadata": {
    "papermill": {
     "duration": 0.008586,
     "end_time": "2022-07-17T00:13:38.088198",
     "exception": false,
     "start_time": "2022-07-17T00:13:38.079612",
     "status": "completed"
    },
    "tags": []
   },
   "source": [
    "---\n",
    "\n",
    "\n",
    "\n",
    "\n",
    "*Have questions or comments? Visit the [course discussion forum](https://www.kaggle.com/learn/intro-to-programming/discussion) to chat with other learners.*"
   ]
  }
 ],
 "metadata": {
  "kernelspec": {
   "display_name": "Python 3",
   "language": "python",
   "name": "python3"
  },
  "language_info": {
   "codemirror_mode": {
    "name": "ipython",
    "version": 3
   },
   "file_extension": ".py",
   "mimetype": "text/x-python",
   "name": "python",
   "nbconvert_exporter": "python",
   "pygments_lexer": "ipython3",
   "version": "3.7.12"
  },
  "papermill": {
   "default_parameters": {},
   "duration": 11.657293,
   "end_time": "2022-07-17T00:13:38.719236",
   "environment_variables": {},
   "exception": null,
   "input_path": "__notebook__.ipynb",
   "output_path": "__notebook__.ipynb",
   "parameters": {},
   "start_time": "2022-07-17T00:13:27.061943",
   "version": "2.3.4"
  }
 },
 "nbformat": 4,
 "nbformat_minor": 5
}

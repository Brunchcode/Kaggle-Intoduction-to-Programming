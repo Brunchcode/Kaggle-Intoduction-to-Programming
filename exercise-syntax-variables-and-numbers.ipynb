{
 "cells": [
  {
   "cell_type": "markdown",
   "id": "e824c7c1",
   "metadata": {
    "papermill": {
     "duration": 0.008661,
     "end_time": "2022-07-17T11:25:41.814071",
     "exception": false,
     "start_time": "2022-07-17T11:25:41.805410",
     "status": "completed"
    },
    "tags": []
   },
   "source": [
    "**This notebook is an exercise in the [Python](https://www.kaggle.com/learn/python) course.  You can reference the tutorial at [this link](https://www.kaggle.com/colinmorris/hello-python).**\n",
    "\n",
    "---\n"
   ]
  },
  {
   "cell_type": "markdown",
   "id": "d8bc78b4",
   "metadata": {
    "papermill": {
     "duration": 0.007201,
     "end_time": "2022-07-17T11:25:41.828967",
     "exception": false,
     "start_time": "2022-07-17T11:25:41.821766",
     "status": "completed"
    },
    "tags": []
   },
   "source": [
    "Welcome to your first set of Python coding problems.  If this is your first time using Kaggle Notebooks, welcome! \n",
    "\n",
    "Notebooks are composed of blocks (called \"cells\") of text and code. Each of these is editable, though you'll mainly be editing the code cells to answer some questions.\n",
    "\n",
    "To get started, try running the code cell below (by pressing the ► button, or clicking on the cell and pressing ctrl+enter on your keyboard)."
   ]
  },
  {
   "cell_type": "code",
   "execution_count": 1,
   "id": "4b2c45ab",
   "metadata": {
    "execution": {
     "iopub.execute_input": "2022-07-17T11:25:41.846180Z",
     "iopub.status.busy": "2022-07-17T11:25:41.845361Z",
     "iopub.status.idle": "2022-07-17T11:25:41.862009Z",
     "shell.execute_reply": "2022-07-17T11:25:41.859564Z"
    },
    "papermill": {
     "duration": 0.029142,
     "end_time": "2022-07-17T11:25:41.865431",
     "exception": false,
     "start_time": "2022-07-17T11:25:41.836289",
     "status": "completed"
    },
    "tags": []
   },
   "outputs": [
    {
     "name": "stdout",
     "output_type": "stream",
     "text": [
      "You've successfully run some Python code\n",
      "Congratulations!\n",
      "185\n"
     ]
    }
   ],
   "source": [
    "print(\"You've successfully run some Python code\")\n",
    "print(\"Congratulations!\")\n",
    "print(556 // 3)"
   ]
  },
  {
   "cell_type": "markdown",
   "id": "4ab9e7a7",
   "metadata": {
    "papermill": {
     "duration": 0.007131,
     "end_time": "2022-07-17T11:25:41.880613",
     "exception": false,
     "start_time": "2022-07-17T11:25:41.873482",
     "status": "completed"
    },
    "tags": []
   },
   "source": [
    "Try adding another line of code in the cell above and re-running it. \n",
    "\n",
    "Now let's get a little fancier:  Add a new code cell by clicking on an existing code cell, hitting the escape key, and then hitting the `a` or `b` key.  The `a` key will add a cell above the current cell, and `b` adds a cell below.\n",
    "\n",
    "Great! Now you know how to use Notebooks.\n",
    "\n",
    "Each hands-on exercise starts by setting up our feedback and code checking mechanism. Run the code cell below to do that. Then you'll be ready to move on to question 0."
   ]
  },
  {
   "cell_type": "code",
   "execution_count": 2,
   "id": "c922edcb",
   "metadata": {
    "_kg_hide-input": true,
    "_kg_hide-output": true,
    "execution": {
     "iopub.execute_input": "2022-07-17T11:25:41.897682Z",
     "iopub.status.busy": "2022-07-17T11:25:41.896662Z",
     "iopub.status.idle": "2022-07-17T11:25:41.934515Z",
     "shell.execute_reply": "2022-07-17T11:25:41.933312Z"
    },
    "papermill": {
     "duration": 0.048919,
     "end_time": "2022-07-17T11:25:41.936967",
     "exception": false,
     "start_time": "2022-07-17T11:25:41.888048",
     "status": "completed"
    },
    "tags": []
   },
   "outputs": [
    {
     "name": "stdout",
     "output_type": "stream",
     "text": [
      "Setup complete! You're ready to start question 0.\n"
     ]
    }
   ],
   "source": [
    "from learntools.core import binder; binder.bind(globals())\n",
    "from learntools.python.ex1 import *\n",
    "print(\"Setup complete! You're ready to start question 0.\")"
   ]
  },
  {
   "cell_type": "markdown",
   "id": "cbed6b90",
   "metadata": {
    "papermill": {
     "duration": 0.007242,
     "end_time": "2022-07-17T11:25:41.951822",
     "exception": false,
     "start_time": "2022-07-17T11:25:41.944580",
     "status": "completed"
    },
    "tags": []
   },
   "source": [
    "# 0.\n",
    "\n",
    "*This is a silly question intended as an introduction to the format we use for hands-on exercises throughout all Kaggle courses.*\n",
    "\n",
    "**What is your favorite color? **\n",
    "\n",
    "To complete this question, create a variable called `color` in the cell below with an appropriate value. The function call `q0.check()` (which we've already provided in the cell below) will check your answer."
   ]
  },
  {
   "cell_type": "code",
   "execution_count": 3,
   "id": "c8b586f1",
   "metadata": {
    "execution": {
     "iopub.execute_input": "2022-07-17T11:25:41.968758Z",
     "iopub.status.busy": "2022-07-17T11:25:41.968077Z",
     "iopub.status.idle": "2022-07-17T11:25:41.981956Z",
     "shell.execute_reply": "2022-07-17T11:25:41.980992Z"
    },
    "papermill": {
     "duration": 0.024772,
     "end_time": "2022-07-17T11:25:41.984088",
     "exception": false,
     "start_time": "2022-07-17T11:25:41.959316",
     "status": "completed"
    },
    "tags": []
   },
   "outputs": [
    {
     "name": "stdout",
     "output_type": "stream",
     "text": [
      "blue\n"
     ]
    },
    {
     "data": {
      "application/javascript": [
       "parent.postMessage({\"jupyterEvent\": \"custom.exercise_interaction\", \"data\": {\"outcomeType\": 1, \"valueTowardsCompletion\": 0.25, \"interactionType\": 1, \"questionType\": 2, \"questionId\": \"0_ExerciseFormatTutorial\", \"learnToolsVersion\": \"0.3.4\", \"failureMessage\": \"\", \"exceptionClass\": \"\", \"trace\": \"\"}}, \"*\")"
      ],
      "text/plain": [
       "<IPython.core.display.Javascript object>"
      ]
     },
     "metadata": {},
     "output_type": "display_data"
    },
    {
     "data": {
      "text/markdown": [
       "<span style=\"color:#33cc33\">Correct:</span> What?! You got it right without needing a hint or anything? Drats. Well hey, you should still continue to the next step to get some practice asking for a hint and checking solutions. (Even though you obviously don't need any help here.)"
      ],
      "text/plain": [
       "Correct: What?! You got it right without needing a hint or anything? Drats. Well hey, you should still continue to the next step to get some practice asking for a hint and checking solutions. (Even though you obviously don't need any help here.)"
      ]
     },
     "metadata": {},
     "output_type": "display_data"
    }
   ],
   "source": [
    "# create a variable called color with an appropriate value on the line below\n",
    "# (Remember, strings in Python must be enclosed in 'single' or \"double\" quotes)\n",
    "color = \"blue\"\n",
    "print(color)\n",
    "\n",
    "# Check your answer\n",
    "q0.check()"
   ]
  },
  {
   "cell_type": "markdown",
   "id": "ef26234d",
   "metadata": {
    "papermill": {
     "duration": 0.007483,
     "end_time": "2022-07-17T11:25:41.999463",
     "exception": false,
     "start_time": "2022-07-17T11:25:41.991980",
     "status": "completed"
    },
    "tags": []
   },
   "source": [
    "Didn't get the right answer? How do you not even know your own favorite color?!\n",
    "\n",
    "Delete the `#` in the line below to make one of the lines run. You can choose between getting a hint or the full answer by choosing which line to remove the `#` from. \n",
    "\n",
    "Removing the `#` is called uncommenting, because it changes that line from a \"comment\" which Python doesn't run to code, which Python does run."
   ]
  },
  {
   "cell_type": "code",
   "execution_count": 4,
   "id": "c4bef7ac",
   "metadata": {
    "execution": {
     "iopub.execute_input": "2022-07-17T11:25:42.016678Z",
     "iopub.status.busy": "2022-07-17T11:25:42.016325Z",
     "iopub.status.idle": "2022-07-17T11:25:42.019898Z",
     "shell.execute_reply": "2022-07-17T11:25:42.019134Z"
    },
    "papermill": {
     "duration": 0.01455,
     "end_time": "2022-07-17T11:25:42.021823",
     "exception": false,
     "start_time": "2022-07-17T11:25:42.007273",
     "status": "completed"
    },
    "tags": []
   },
   "outputs": [],
   "source": [
    "#q0.hint()\n",
    "#q0.solution()"
   ]
  },
  {
   "cell_type": "markdown",
   "id": "ff56eb6a",
   "metadata": {
    "papermill": {
     "duration": 0.007634,
     "end_time": "2022-07-17T11:25:42.037493",
     "exception": false,
     "start_time": "2022-07-17T11:25:42.029859",
     "status": "completed"
    },
    "tags": []
   },
   "source": [
    "The upcoming questions work the same way. The only thing that will change are the question numbers. For the next question, you'll call `q1.check()`, `q1.hint()`, `q1.solution()`, for question 2, you'll call `q2.check()`, and so on."
   ]
  },
  {
   "cell_type": "markdown",
   "id": "b8eae03d",
   "metadata": {
    "papermill": {
     "duration": 0.007684,
     "end_time": "2022-07-17T11:25:42.052959",
     "exception": false,
     "start_time": "2022-07-17T11:25:42.045275",
     "status": "completed"
    },
    "tags": []
   },
   "source": [
    "<hr/>\n",
    "\n",
    "# 1.\n",
    "\n",
    "Complete the code below. In case it's helpful, here is the table of available arithmetic operations:\n",
    "\n",
    "\n",
    "\n",
    "| Operator     | Name           | Description                                            |\n",
    "|--------------|----------------|--------------------------------------------------------|\n",
    "| ``a + b``    | Addition       | Sum of ``a`` and ``b``                                 |\n",
    "| ``a - b``    | Subtraction    | Difference of ``a`` and ``b``                          |\n",
    "| ``a * b``    | Multiplication | Product of ``a`` and ``b``                             |\n",
    "| ``a / b``    | True division  | Quotient of ``a`` and ``b``                            |\n",
    "| ``a // b``   | Floor division | Quotient of ``a`` and ``b``, removing fractional parts |\n",
    "| ``a % b``    | Modulus        | Integer remainder after division of ``a`` by ``b``     |\n",
    "| ``a ** b``   | Exponentiation | ``a`` raised to the power of ``b``                     |\n",
    "| ``-a``       | Negation       | The negative of ``a``                                  |\n",
    "\n",
    "<span style=\"display:none\"></span>\n"
   ]
  },
  {
   "cell_type": "code",
   "execution_count": 5,
   "id": "2dbdfa0d",
   "metadata": {
    "execution": {
     "iopub.execute_input": "2022-07-17T11:25:42.070472Z",
     "iopub.status.busy": "2022-07-17T11:25:42.070077Z",
     "iopub.status.idle": "2022-07-17T11:25:42.079111Z",
     "shell.execute_reply": "2022-07-17T11:25:42.078115Z"
    },
    "papermill": {
     "duration": 0.020363,
     "end_time": "2022-07-17T11:25:42.081289",
     "exception": false,
     "start_time": "2022-07-17T11:25:42.060926",
     "status": "completed"
    },
    "tags": []
   },
   "outputs": [
    {
     "data": {
      "application/javascript": [
       "parent.postMessage({\"jupyterEvent\": \"custom.exercise_interaction\", \"data\": {\"outcomeType\": 1, \"valueTowardsCompletion\": 0.25, \"interactionType\": 1, \"questionType\": 1, \"questionId\": \"1_CircleArea\", \"learnToolsVersion\": \"0.3.4\", \"failureMessage\": \"\", \"exceptionClass\": \"\", \"trace\": \"\"}}, \"*\")"
      ],
      "text/plain": [
       "<IPython.core.display.Javascript object>"
      ]
     },
     "metadata": {},
     "output_type": "display_data"
    },
    {
     "data": {
      "text/markdown": [
       "<span style=\"color:#33cc33\">Correct</span>"
      ],
      "text/plain": [
       "Correct"
      ]
     },
     "metadata": {},
     "output_type": "display_data"
    }
   ],
   "source": [
    "pi = 3.14159 # approximate\n",
    "diameter = 3\n",
    "\n",
    "# Create a variable called 'radius' equal to half the diameter\n",
    "radius = diameter / 2\n",
    "\n",
    "# Create a variable called 'area', using the formula for the area of a circle: pi times the radius squared\n",
    "area = pi * radius ** 2\n",
    "\n",
    "# Check your answer\n",
    "q1.check()"
   ]
  },
  {
   "cell_type": "code",
   "execution_count": 6,
   "id": "8b01e11d",
   "metadata": {
    "execution": {
     "iopub.execute_input": "2022-07-17T11:25:42.098539Z",
     "iopub.status.busy": "2022-07-17T11:25:42.098156Z",
     "iopub.status.idle": "2022-07-17T11:25:42.102633Z",
     "shell.execute_reply": "2022-07-17T11:25:42.101622Z"
    },
    "papermill": {
     "duration": 0.015619,
     "end_time": "2022-07-17T11:25:42.104892",
     "exception": false,
     "start_time": "2022-07-17T11:25:42.089273",
     "status": "completed"
    },
    "tags": []
   },
   "outputs": [],
   "source": [
    "# Uncomment and run the lines below if you need help.\n",
    "#q1.hint()\n",
    "#q1.solution()"
   ]
  },
  {
   "cell_type": "markdown",
   "id": "03d881d8",
   "metadata": {
    "papermill": {
     "duration": 0.00849,
     "end_time": "2022-07-17T11:25:42.121485",
     "exception": false,
     "start_time": "2022-07-17T11:25:42.112995",
     "status": "completed"
    },
    "tags": []
   },
   "source": [
    "<hr/>\n",
    "\n",
    "# 2.\n",
    "\n",
    "Add code to the following cell to swap variables `a` and `b` (so that `a` refers to the object previously referred to by `b` and vice versa)."
   ]
  },
  {
   "cell_type": "code",
   "execution_count": 7,
   "id": "813bde0c",
   "metadata": {
    "execution": {
     "iopub.execute_input": "2022-07-17T11:25:42.139164Z",
     "iopub.status.busy": "2022-07-17T11:25:42.138764Z",
     "iopub.status.idle": "2022-07-17T11:25:42.148089Z",
     "shell.execute_reply": "2022-07-17T11:25:42.147306Z"
    },
    "papermill": {
     "duration": 0.02066,
     "end_time": "2022-07-17T11:25:42.150189",
     "exception": false,
     "start_time": "2022-07-17T11:25:42.129529",
     "status": "completed"
    },
    "tags": []
   },
   "outputs": [
    {
     "data": {
      "application/javascript": [
       "parent.postMessage({\"jupyterEvent\": \"custom.exercise_interaction\", \"data\": {\"outcomeType\": 1, \"valueTowardsCompletion\": 0.25, \"interactionType\": 1, \"questionType\": 2, \"questionId\": \"2_VariableSwap\", \"learnToolsVersion\": \"0.3.4\", \"failureMessage\": \"\", \"exceptionClass\": \"\", \"trace\": \"\"}}, \"*\")"
      ],
      "text/plain": [
       "<IPython.core.display.Javascript object>"
      ]
     },
     "metadata": {},
     "output_type": "display_data"
    },
    {
     "data": {
      "text/markdown": [
       "<span style=\"color:#33cc33\">Correct:</span> \n",
       "\n",
       "The most straightforward solution is to use a third variable to temporarily store one of the old values. e.g.:\n",
       "\n",
       "    tmp = a\n",
       "    a = b\n",
       "    b = tmp\n",
       "\n",
       "If you've read lots of Python code, you might have seen the following trick to swap two variables in one line:\n",
       "\n",
       "    a, b = b, a\n",
       "\n",
       "We'll demystify this bit of Python magic later when we talk about *tuples*."
      ],
      "text/plain": [
       "Correct: \n",
       "\n",
       "The most straightforward solution is to use a third variable to temporarily store one of the old values. e.g.:\n",
       "\n",
       "    tmp = a\n",
       "    a = b\n",
       "    b = tmp\n",
       "\n",
       "If you've read lots of Python code, you might have seen the following trick to swap two variables in one line:\n",
       "\n",
       "    a, b = b, a\n",
       "\n",
       "We'll demystify this bit of Python magic later when we talk about *tuples*."
      ]
     },
     "metadata": {},
     "output_type": "display_data"
    }
   ],
   "source": [
    "########### Setup code - don't touch this part ######################\n",
    "# If you're curious, these are examples of lists. We'll talk about \n",
    "# them in depth a few lessons from now. For now, just know that they're\n",
    "# yet another type of Python object, like int or float.\n",
    "a = [1, 2, 3]\n",
    "b = [3, 2, 1]\n",
    "q2.store_original_ids()\n",
    "######################################################################\n",
    "\n",
    "# Your code goes here. Swap the values to which a and b refer.\n",
    "old_a = a\n",
    "old_b = b\n",
    "b = old_a\n",
    "a = old_b\n",
    "# If you get stuck, you can always uncomment one or both of the lines in\n",
    "# the next cell for a hint, or to peek at the solution.\n",
    "\n",
    "######################################################################\n",
    "\n",
    "# Check your answer\n",
    "q2.check()"
   ]
  },
  {
   "cell_type": "code",
   "execution_count": 8,
   "id": "6311f272",
   "metadata": {
    "execution": {
     "iopub.execute_input": "2022-07-17T11:25:42.168881Z",
     "iopub.status.busy": "2022-07-17T11:25:42.168526Z",
     "iopub.status.idle": "2022-07-17T11:25:42.173124Z",
     "shell.execute_reply": "2022-07-17T11:25:42.172038Z"
    },
    "papermill": {
     "duration": 0.016601,
     "end_time": "2022-07-17T11:25:42.175330",
     "exception": false,
     "start_time": "2022-07-17T11:25:42.158729",
     "status": "completed"
    },
    "tags": []
   },
   "outputs": [],
   "source": [
    "#q2.hint()"
   ]
  },
  {
   "cell_type": "code",
   "execution_count": 9,
   "id": "aaa97ab2",
   "metadata": {
    "execution": {
     "iopub.execute_input": "2022-07-17T11:25:42.194568Z",
     "iopub.status.busy": "2022-07-17T11:25:42.194132Z",
     "iopub.status.idle": "2022-07-17T11:25:42.198253Z",
     "shell.execute_reply": "2022-07-17T11:25:42.197459Z"
    },
    "papermill": {
     "duration": 0.016286,
     "end_time": "2022-07-17T11:25:42.200121",
     "exception": false,
     "start_time": "2022-07-17T11:25:42.183835",
     "status": "completed"
    },
    "tags": []
   },
   "outputs": [],
   "source": [
    "#q2.solution()"
   ]
  },
  {
   "cell_type": "markdown",
   "id": "c44c58ba",
   "metadata": {
    "papermill": {
     "duration": 0.008466,
     "end_time": "2022-07-17T11:25:42.217646",
     "exception": false,
     "start_time": "2022-07-17T11:25:42.209180",
     "status": "completed"
    },
    "tags": []
   },
   "source": [
    "<hr/>\n",
    "\n",
    "# 3a.\n",
    "\n",
    "Add parentheses to the following expression so that it evaluates to 1."
   ]
  },
  {
   "cell_type": "code",
   "execution_count": 10,
   "id": "9b5bbd4e",
   "metadata": {
    "execution": {
     "iopub.execute_input": "2022-07-17T11:25:42.237449Z",
     "iopub.status.busy": "2022-07-17T11:25:42.236815Z",
     "iopub.status.idle": "2022-07-17T11:25:42.244120Z",
     "shell.execute_reply": "2022-07-17T11:25:42.242666Z"
    },
    "papermill": {
     "duration": 0.019787,
     "end_time": "2022-07-17T11:25:42.246376",
     "exception": false,
     "start_time": "2022-07-17T11:25:42.226589",
     "status": "completed"
    },
    "tags": []
   },
   "outputs": [
    {
     "data": {
      "text/plain": [
       "1"
      ]
     },
     "execution_count": 10,
     "metadata": {},
     "output_type": "execute_result"
    }
   ],
   "source": [
    "(5 - 3 )// 2"
   ]
  },
  {
   "cell_type": "code",
   "execution_count": 11,
   "id": "d1efe48c",
   "metadata": {
    "execution": {
     "iopub.execute_input": "2022-07-17T11:25:42.273335Z",
     "iopub.status.busy": "2022-07-17T11:25:42.272941Z",
     "iopub.status.idle": "2022-07-17T11:25:42.277131Z",
     "shell.execute_reply": "2022-07-17T11:25:42.276134Z"
    },
    "papermill": {
     "duration": 0.021135,
     "end_time": "2022-07-17T11:25:42.279309",
     "exception": false,
     "start_time": "2022-07-17T11:25:42.258174",
     "status": "completed"
    },
    "tags": []
   },
   "outputs": [],
   "source": [
    "#q3.a.hint()"
   ]
  },
  {
   "cell_type": "code",
   "execution_count": 12,
   "id": "60d4dcc0",
   "metadata": {
    "execution": {
     "iopub.execute_input": "2022-07-17T11:25:42.299428Z",
     "iopub.status.busy": "2022-07-17T11:25:42.298881Z",
     "iopub.status.idle": "2022-07-17T11:25:42.307646Z",
     "shell.execute_reply": "2022-07-17T11:25:42.306643Z"
    },
    "papermill": {
     "duration": 0.021867,
     "end_time": "2022-07-17T11:25:42.309910",
     "exception": false,
     "start_time": "2022-07-17T11:25:42.288043",
     "status": "completed"
    },
    "tags": []
   },
   "outputs": [
    {
     "data": {
      "application/javascript": [
       "parent.postMessage({\"jupyterEvent\": \"custom.exercise_interaction\", \"data\": {\"interactionType\": 3, \"questionType\": 4, \"questionId\": \"3.1_ArithmeticParensEasy\", \"learnToolsVersion\": \"0.3.4\", \"valueTowardsCompletion\": 0.0, \"failureMessage\": \"\", \"exceptionClass\": \"\", \"trace\": \"\", \"outcomeType\": 4}}, \"*\")"
      ],
      "text/plain": [
       "<IPython.core.display.Javascript object>"
      ]
     },
     "metadata": {},
     "output_type": "display_data"
    },
    {
     "data": {
      "text/markdown": [
       "<span style=\"color:#33cc99\">Solution:</span> \n",
       "```python\n",
       "(5 - 3) // 2\n",
       "```"
      ],
      "text/plain": [
       "Solution: \n",
       "```python\n",
       "(5 - 3) // 2\n",
       "```"
      ]
     },
     "metadata": {},
     "output_type": "display_data"
    }
   ],
   "source": [
    "# Check your answer (Run this code cell to receive credit!)\n",
    "q3.a.solution()"
   ]
  },
  {
   "cell_type": "markdown",
   "id": "1f13d216",
   "metadata": {
    "papermill": {
     "duration": 0.008807,
     "end_time": "2022-07-17T11:25:42.327913",
     "exception": false,
     "start_time": "2022-07-17T11:25:42.319106",
     "status": "completed"
    },
    "tags": []
   },
   "source": [
    "# 3b.  <span title=\"A bit spicy\" style=\"color: darkgreen \">🌶️</span>\n",
    "\n",
    "<small>Questions, like this one, marked a spicy pepper are a bit harder.</small>\n",
    "\n",
    "Add parentheses to the following expression so that it evaluates to 0."
   ]
  },
  {
   "cell_type": "code",
   "execution_count": 13,
   "id": "2059ec86",
   "metadata": {
    "execution": {
     "iopub.execute_input": "2022-07-17T11:25:42.348363Z",
     "iopub.status.busy": "2022-07-17T11:25:42.347626Z",
     "iopub.status.idle": "2022-07-17T11:25:42.353940Z",
     "shell.execute_reply": "2022-07-17T11:25:42.353185Z"
    },
    "papermill": {
     "duration": 0.019027,
     "end_time": "2022-07-17T11:25:42.356046",
     "exception": false,
     "start_time": "2022-07-17T11:25:42.337019",
     "status": "completed"
    },
    "tags": []
   },
   "outputs": [
    {
     "data": {
      "text/plain": [
       "0"
      ]
     },
     "execution_count": 13,
     "metadata": {},
     "output_type": "execute_result"
    }
   ],
   "source": [
    "(8 - 3 )* (2 - (1 + 1))"
   ]
  },
  {
   "cell_type": "code",
   "execution_count": 14,
   "id": "d10ec01c",
   "metadata": {
    "execution": {
     "iopub.execute_input": "2022-07-17T11:25:42.376557Z",
     "iopub.status.busy": "2022-07-17T11:25:42.375836Z",
     "iopub.status.idle": "2022-07-17T11:25:42.380594Z",
     "shell.execute_reply": "2022-07-17T11:25:42.379742Z"
    },
    "papermill": {
     "duration": 0.017279,
     "end_time": "2022-07-17T11:25:42.382585",
     "exception": false,
     "start_time": "2022-07-17T11:25:42.365306",
     "status": "completed"
    },
    "tags": []
   },
   "outputs": [],
   "source": [
    "#q3.b.hint()"
   ]
  },
  {
   "cell_type": "code",
   "execution_count": 15,
   "id": "705914ab",
   "metadata": {
    "execution": {
     "iopub.execute_input": "2022-07-17T11:25:42.402827Z",
     "iopub.status.busy": "2022-07-17T11:25:42.402446Z",
     "iopub.status.idle": "2022-07-17T11:25:42.411017Z",
     "shell.execute_reply": "2022-07-17T11:25:42.409818Z"
    },
    "papermill": {
     "duration": 0.021393,
     "end_time": "2022-07-17T11:25:42.413370",
     "exception": false,
     "start_time": "2022-07-17T11:25:42.391977",
     "status": "completed"
    },
    "tags": []
   },
   "outputs": [
    {
     "data": {
      "application/javascript": [
       "parent.postMessage({\"jupyterEvent\": \"custom.exercise_interaction\", \"data\": {\"interactionType\": 3, \"questionType\": 4, \"questionId\": \"3.2_ArithmeticParensHard\", \"learnToolsVersion\": \"0.3.4\", \"valueTowardsCompletion\": 0.0, \"failureMessage\": \"\", \"exceptionClass\": \"\", \"trace\": \"\", \"outcomeType\": 4}}, \"*\")"
      ],
      "text/plain": [
       "<IPython.core.display.Javascript object>"
      ]
     },
     "metadata": {},
     "output_type": "display_data"
    },
    {
     "data": {
      "text/markdown": [
       "<span style=\"color:#33cc99\">Solution:</span> `(8 - 3) * (2 - (1 + 1))` is one solution. There may be others."
      ],
      "text/plain": [
       "Solution: `(8 - 3) * (2 - (1 + 1))` is one solution. There may be others."
      ]
     },
     "metadata": {},
     "output_type": "display_data"
    }
   ],
   "source": [
    "# Check your answer (Run this code cell to receive credit!)\n",
    "q3.b.solution()"
   ]
  },
  {
   "cell_type": "markdown",
   "id": "eb453dab",
   "metadata": {
    "papermill": {
     "duration": 0.009178,
     "end_time": "2022-07-17T11:25:42.432152",
     "exception": false,
     "start_time": "2022-07-17T11:25:42.422974",
     "status": "completed"
    },
    "tags": []
   },
   "source": [
    "<hr/>\n",
    "\n",
    "# 4. \n",
    "Alice, Bob and Carol have agreed to pool their Halloween candy and split it evenly among themselves.\n",
    "For the sake of their friendship, any candies left over will be smashed. For example, if they collectively\n",
    "bring home 91 candies, they'll take 30 each and smash 1.\n",
    "\n",
    "Write an arithmetic expression below to calculate how many candies they must smash for a given haul."
   ]
  },
  {
   "cell_type": "code",
   "execution_count": 16,
   "id": "a604511e",
   "metadata": {
    "execution": {
     "iopub.execute_input": "2022-07-17T11:25:42.452625Z",
     "iopub.status.busy": "2022-07-17T11:25:42.452224Z",
     "iopub.status.idle": "2022-07-17T11:25:42.467125Z",
     "shell.execute_reply": "2022-07-17T11:25:42.466065Z"
    },
    "papermill": {
     "duration": 0.027708,
     "end_time": "2022-07-17T11:25:42.469270",
     "exception": false,
     "start_time": "2022-07-17T11:25:42.441562",
     "status": "completed"
    },
    "tags": []
   },
   "outputs": [
    {
     "data": {
      "application/javascript": [
       "parent.postMessage({\"jupyterEvent\": \"custom.exercise_interaction\", \"data\": {\"outcomeType\": 1, \"valueTowardsCompletion\": 0.25, \"interactionType\": 1, \"questionType\": 1, \"questionId\": \"4_CandySplitting\", \"learnToolsVersion\": \"0.3.4\", \"failureMessage\": \"\", \"exceptionClass\": \"\", \"trace\": \"\"}}, \"*\")"
      ],
      "text/plain": [
       "<IPython.core.display.Javascript object>"
      ]
     },
     "metadata": {},
     "output_type": "display_data"
    },
    {
     "data": {
      "text/markdown": [
       "<span style=\"color:#33cc33\">Correct</span>"
      ],
      "text/plain": [
       "Correct"
      ]
     },
     "metadata": {},
     "output_type": "display_data"
    }
   ],
   "source": [
    "# Variables representing the number of candies collected by alice, bob, and carol\n",
    "alice_candies = 121\n",
    "bob_candies = 77\n",
    "carol_candies = 109\n",
    "\n",
    "# Your code goes here! Replace the right-hand side of this assignment with an expression\n",
    "sum_of_candies = alice_candies + bob_candies + carol_candies\n",
    "# involving alice_candies, bob_candies, and carol_candies\n",
    "to_smash = sum_of_candies % 3\n",
    "\n",
    "# Check your answer\n",
    "q4.check()"
   ]
  },
  {
   "cell_type": "code",
   "execution_count": 17,
   "id": "d3449d6b",
   "metadata": {
    "execution": {
     "iopub.execute_input": "2022-07-17T11:25:42.490572Z",
     "iopub.status.busy": "2022-07-17T11:25:42.490185Z",
     "iopub.status.idle": "2022-07-17T11:25:42.494147Z",
     "shell.execute_reply": "2022-07-17T11:25:42.493148Z"
    },
    "papermill": {
     "duration": 0.017432,
     "end_time": "2022-07-17T11:25:42.496335",
     "exception": false,
     "start_time": "2022-07-17T11:25:42.478903",
     "status": "completed"
    },
    "tags": []
   },
   "outputs": [],
   "source": [
    "#q4.hint()\n",
    "#q4.solution()"
   ]
  },
  {
   "cell_type": "markdown",
   "id": "011e8320",
   "metadata": {
    "papermill": {
     "duration": 0.009629,
     "end_time": "2022-07-17T11:25:42.515639",
     "exception": false,
     "start_time": "2022-07-17T11:25:42.506010",
     "status": "completed"
    },
    "tags": []
   },
   "source": [
    "# Keep Going\n",
    "\n",
    "Next up, you'll **[learn to write new functions and understand functions others write](https://www.kaggle.com/colinmorris/functions-and-getting-help)**. This will make you at least 10 times more productive as a Python programmer. "
   ]
  },
  {
   "cell_type": "markdown",
   "id": "6724e08b",
   "metadata": {
    "papermill": {
     "duration": 0.009508,
     "end_time": "2022-07-17T11:25:42.534964",
     "exception": false,
     "start_time": "2022-07-17T11:25:42.525456",
     "status": "completed"
    },
    "tags": []
   },
   "source": [
    "---\n",
    "\n",
    "\n",
    "\n",
    "\n",
    "*Have questions or comments? Visit the [course discussion forum](https://www.kaggle.com/learn/python/discussion) to chat with other learners.*"
   ]
  },
  {
   "cell_type": "code",
   "execution_count": null,
   "id": "5456c082",
   "metadata": {
    "papermill": {
     "duration": 0.009575,
     "end_time": "2022-07-17T11:25:42.554381",
     "exception": false,
     "start_time": "2022-07-17T11:25:42.544806",
     "status": "completed"
    },
    "tags": []
   },
   "outputs": [],
   "source": []
  }
 ],
 "metadata": {
  "kernelspec": {
   "display_name": "Python 3",
   "language": "python",
   "name": "python3"
  },
  "language_info": {
   "codemirror_mode": {
    "name": "ipython",
    "version": 3
   },
   "file_extension": ".py",
   "mimetype": "text/x-python",
   "name": "python",
   "nbconvert_exporter": "python",
   "pygments_lexer": "ipython3",
   "version": "3.7.12"
  },
  "papermill": {
   "default_parameters": {},
   "duration": 10.654313,
   "end_time": "2022-07-17T11:25:43.184127",
   "environment_variables": {},
   "exception": null,
   "input_path": "__notebook__.ipynb",
   "output_path": "__notebook__.ipynb",
   "parameters": {},
   "start_time": "2022-07-17T11:25:32.529814",
   "version": "2.3.4"
  }
 },
 "nbformat": 4,
 "nbformat_minor": 5
}

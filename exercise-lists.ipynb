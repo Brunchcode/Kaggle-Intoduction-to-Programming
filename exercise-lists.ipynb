{
 "cells": [
  {
   "cell_type": "markdown",
   "id": "27c9987f",
   "metadata": {
    "papermill": {
     "duration": 0.006092,
     "end_time": "2022-07-19T00:41:32.003093",
     "exception": false,
     "start_time": "2022-07-19T00:41:31.997001",
     "status": "completed"
    },
    "tags": []
   },
   "source": [
    "**This notebook is an exercise in the [Python](https://www.kaggle.com/learn/python) course.  You can reference the tutorial at [this link](https://www.kaggle.com/colinmorris/lists).**\n",
    "\n",
    "---\n"
   ]
  },
  {
   "cell_type": "markdown",
   "id": "59cdc0e4",
   "metadata": {
    "papermill": {
     "duration": 0.004172,
     "end_time": "2022-07-19T00:41:32.011817",
     "exception": false,
     "start_time": "2022-07-19T00:41:32.007645",
     "status": "completed"
    },
    "tags": []
   },
   "source": [
    "Things get more interesting with lists. You'll apply your new knowledge to solve the questions below. Remember to run the following cell first."
   ]
  },
  {
   "cell_type": "code",
   "execution_count": 1,
   "id": "81d81504",
   "metadata": {
    "execution": {
     "iopub.execute_input": "2022-07-19T00:41:32.022623Z",
     "iopub.status.busy": "2022-07-19T00:41:32.022216Z",
     "iopub.status.idle": "2022-07-19T00:41:32.071998Z",
     "shell.execute_reply": "2022-07-19T00:41:32.070892Z"
    },
    "papermill": {
     "duration": 0.059436,
     "end_time": "2022-07-19T00:41:32.075720",
     "exception": false,
     "start_time": "2022-07-19T00:41:32.016284",
     "status": "completed"
    },
    "tags": []
   },
   "outputs": [
    {
     "name": "stdout",
     "output_type": "stream",
     "text": [
      "Setup complete.\n"
     ]
    }
   ],
   "source": [
    "from learntools.core import binder; binder.bind(globals())\n",
    "from learntools.python.ex4 import *\n",
    "print('Setup complete.')"
   ]
  },
  {
   "cell_type": "markdown",
   "id": "e35f8dab",
   "metadata": {
    "papermill": {
     "duration": 0.004305,
     "end_time": "2022-07-19T00:41:32.085243",
     "exception": false,
     "start_time": "2022-07-19T00:41:32.080938",
     "status": "completed"
    },
    "tags": []
   },
   "source": [
    "# 1.\n",
    "\n",
    "Complete the function below according to its docstring."
   ]
  },
  {
   "cell_type": "code",
   "execution_count": 2,
   "id": "750b3be9",
   "metadata": {
    "execution": {
     "iopub.execute_input": "2022-07-19T00:41:32.096134Z",
     "iopub.status.busy": "2022-07-19T00:41:32.095309Z",
     "iopub.status.idle": "2022-07-19T00:41:32.105923Z",
     "shell.execute_reply": "2022-07-19T00:41:32.105156Z"
    },
    "papermill": {
     "duration": 0.018147,
     "end_time": "2022-07-19T00:41:32.107868",
     "exception": false,
     "start_time": "2022-07-19T00:41:32.089721",
     "status": "completed"
    },
    "tags": []
   },
   "outputs": [
    {
     "data": {
      "application/javascript": [
       "parent.postMessage({\"jupyterEvent\": \"custom.exercise_interaction\", \"data\": {\"outcomeType\": 1, \"valueTowardsCompletion\": 0.2, \"interactionType\": 1, \"questionType\": 2, \"questionId\": \"1_SelectSecondItem\", \"learnToolsVersion\": \"0.3.4\", \"failureMessage\": \"\", \"exceptionClass\": \"\", \"trace\": \"\"}}, \"*\")"
      ],
      "text/plain": [
       "<IPython.core.display.Javascript object>"
      ]
     },
     "metadata": {},
     "output_type": "display_data"
    },
    {
     "data": {
      "text/markdown": [
       "<span style=\"color:#33cc33\">Correct</span>"
      ],
      "text/plain": [
       "Correct"
      ]
     },
     "metadata": {},
     "output_type": "display_data"
    }
   ],
   "source": [
    "def select_second(L):\n",
    "    \"\"\"Return the second element of the given list. If the list has no second\n",
    "    element, return None.\n",
    "    \"\"\"\n",
    "    if len(L) >= 2:\n",
    "        return L[1]\n",
    "    else:\n",
    "        return None\n",
    "    pass\n",
    "\n",
    "# Check your answer\n",
    "q1.check()"
   ]
  },
  {
   "cell_type": "code",
   "execution_count": 3,
   "id": "fd9fb435",
   "metadata": {
    "execution": {
     "iopub.execute_input": "2022-07-19T00:41:32.121681Z",
     "iopub.status.busy": "2022-07-19T00:41:32.120055Z",
     "iopub.status.idle": "2022-07-19T00:41:32.126223Z",
     "shell.execute_reply": "2022-07-19T00:41:32.124741Z"
    },
    "papermill": {
     "duration": 0.015389,
     "end_time": "2022-07-19T00:41:32.128632",
     "exception": false,
     "start_time": "2022-07-19T00:41:32.113243",
     "status": "completed"
    },
    "tags": []
   },
   "outputs": [],
   "source": [
    "#q1.hint()\n",
    "#q1.solution()"
   ]
  },
  {
   "cell_type": "markdown",
   "id": "58a4d514",
   "metadata": {
    "papermill": {
     "duration": 0.005056,
     "end_time": "2022-07-19T00:41:32.138660",
     "exception": false,
     "start_time": "2022-07-19T00:41:32.133604",
     "status": "completed"
    },
    "tags": []
   },
   "source": [
    "# 2.\n",
    "\n",
    "You are analyzing sports teams.  Members of each team are stored in a list. The Coach is the first name in the list, the captain is the second name in the list, and other players are listed after that. \n",
    "These lists are stored in another list, which starts with the best team and proceeds through the list to the worst team last.  Complete the function below to select the **captain** of the worst team."
   ]
  },
  {
   "cell_type": "code",
   "execution_count": 4,
   "id": "07e6375e",
   "metadata": {
    "execution": {
     "iopub.execute_input": "2022-07-19T00:41:32.149687Z",
     "iopub.status.busy": "2022-07-19T00:41:32.149131Z",
     "iopub.status.idle": "2022-07-19T00:41:32.161619Z",
     "shell.execute_reply": "2022-07-19T00:41:32.160702Z"
    },
    "papermill": {
     "duration": 0.020555,
     "end_time": "2022-07-19T00:41:32.163840",
     "exception": false,
     "start_time": "2022-07-19T00:41:32.143285",
     "status": "completed"
    },
    "tags": []
   },
   "outputs": [
    {
     "name": "stdout",
     "output_type": "stream",
     "text": [
      "Captain3\n"
     ]
    }
   ],
   "source": [
    "teams = [\n",
    "    [\"Coach1\", \"Captain1\", \"Teammate1\"],\n",
    "    [\"Coach2\", \"Captain2\", \"Teammate2\"],\n",
    "    [\"Coach3\", \"Captain3\", \"Teammate3\"],\n",
    "]\n",
    "\n",
    "Worst_team = teams[-1][1]\n",
    "\n",
    "Worst_team_captain = Worst_team[1]\n",
    "\n",
    "print(Worst_team)"
   ]
  },
  {
   "cell_type": "code",
   "execution_count": 5,
   "id": "a4b7562c",
   "metadata": {
    "execution": {
     "iopub.execute_input": "2022-07-19T00:41:32.179635Z",
     "iopub.status.busy": "2022-07-19T00:41:32.178957Z",
     "iopub.status.idle": "2022-07-19T00:41:32.187556Z",
     "shell.execute_reply": "2022-07-19T00:41:32.186805Z"
    },
    "papermill": {
     "duration": 0.021717,
     "end_time": "2022-07-19T00:41:32.191530",
     "exception": false,
     "start_time": "2022-07-19T00:41:32.169813",
     "status": "completed"
    },
    "tags": []
   },
   "outputs": [
    {
     "data": {
      "application/javascript": [
       "parent.postMessage({\"jupyterEvent\": \"custom.exercise_interaction\", \"data\": {\"outcomeType\": 1, \"valueTowardsCompletion\": 0.2, \"interactionType\": 1, \"questionType\": 2, \"questionId\": \"2_LosingTeamCaptain\", \"learnToolsVersion\": \"0.3.4\", \"failureMessage\": \"\", \"exceptionClass\": \"\", \"trace\": \"\"}}, \"*\")"
      ],
      "text/plain": [
       "<IPython.core.display.Javascript object>"
      ]
     },
     "metadata": {},
     "output_type": "display_data"
    },
    {
     "data": {
      "text/markdown": [
       "<span style=\"color:#33cc33\">Correct</span>"
      ],
      "text/plain": [
       "Correct"
      ]
     },
     "metadata": {},
     "output_type": "display_data"
    }
   ],
   "source": [
    "def losing_team_captain(teams):\n",
    "    \"\"\"Given a list of teams, where each team is a list of names, return the 2nd player (captain)\n",
    "    from the last listed team\n",
    "    \"\"\"\n",
    "    return teams[-1][1]\n",
    "    pass\n",
    "\n",
    "# Check your answer\n",
    "q2.check()"
   ]
  },
  {
   "cell_type": "code",
   "execution_count": 6,
   "id": "bf0b6e45",
   "metadata": {
    "execution": {
     "iopub.execute_input": "2022-07-19T00:41:32.204525Z",
     "iopub.status.busy": "2022-07-19T00:41:32.203841Z",
     "iopub.status.idle": "2022-07-19T00:41:32.207578Z",
     "shell.execute_reply": "2022-07-19T00:41:32.206617Z"
    },
    "papermill": {
     "duration": 0.012567,
     "end_time": "2022-07-19T00:41:32.209991",
     "exception": false,
     "start_time": "2022-07-19T00:41:32.197424",
     "status": "completed"
    },
    "tags": []
   },
   "outputs": [],
   "source": [
    "#q2.hint()\n",
    "#q2.solution()"
   ]
  },
  {
   "cell_type": "markdown",
   "id": "4f60b908",
   "metadata": {
    "papermill": {
     "duration": 0.00721,
     "end_time": "2022-07-19T00:41:32.225404",
     "exception": false,
     "start_time": "2022-07-19T00:41:32.218194",
     "status": "completed"
    },
    "tags": []
   },
   "source": [
    "# 3.\n",
    "\n",
    "The next iteration of Mario Kart will feature an extra-infuriating new item, the *Purple Shell*. When used, it warps the last place racer into first place and the first place racer into last place. Complete the function below to implement the Purple Shell's effect."
   ]
  },
  {
   "cell_type": "code",
   "execution_count": 7,
   "id": "286f6ff6",
   "metadata": {
    "execution": {
     "iopub.execute_input": "2022-07-19T00:41:32.237996Z",
     "iopub.status.busy": "2022-07-19T00:41:32.237294Z",
     "iopub.status.idle": "2022-07-19T00:41:32.258087Z",
     "shell.execute_reply": "2022-07-19T00:41:32.256331Z"
    },
    "papermill": {
     "duration": 0.029563,
     "end_time": "2022-07-19T00:41:32.260819",
     "exception": false,
     "start_time": "2022-07-19T00:41:32.231256",
     "status": "completed"
    },
    "tags": []
   },
   "outputs": [
    {
     "name": "stdout",
     "output_type": "stream",
     "text": [
      "[1, 2, 3]\n",
      "Help on list object:\n",
      "\n",
      "class list(object)\n",
      " |  list(iterable=(), /)\n",
      " |  \n",
      " |  Built-in mutable sequence.\n",
      " |  \n",
      " |  If no argument is given, the constructor creates a new empty list.\n",
      " |  The argument must be an iterable if specified.\n",
      " |  \n",
      " |  Methods defined here:\n",
      " |  \n",
      " |  __add__(self, value, /)\n",
      " |      Return self+value.\n",
      " |  \n",
      " |  __contains__(self, key, /)\n",
      " |      Return key in self.\n",
      " |  \n",
      " |  __delitem__(self, key, /)\n",
      " |      Delete self[key].\n",
      " |  \n",
      " |  __eq__(self, value, /)\n",
      " |      Return self==value.\n",
      " |  \n",
      " |  __ge__(self, value, /)\n",
      " |      Return self>=value.\n",
      " |  \n",
      " |  __getattribute__(self, name, /)\n",
      " |      Return getattr(self, name).\n",
      " |  \n",
      " |  __getitem__(...)\n",
      " |      x.__getitem__(y) <==> x[y]\n",
      " |  \n",
      " |  __gt__(self, value, /)\n",
      " |      Return self>value.\n",
      " |  \n",
      " |  __iadd__(self, value, /)\n",
      " |      Implement self+=value.\n",
      " |  \n",
      " |  __imul__(self, value, /)\n",
      " |      Implement self*=value.\n",
      " |  \n",
      " |  __init__(self, /, *args, **kwargs)\n",
      " |      Initialize self.  See help(type(self)) for accurate signature.\n",
      " |  \n",
      " |  __iter__(self, /)\n",
      " |      Implement iter(self).\n",
      " |  \n",
      " |  __le__(self, value, /)\n",
      " |      Return self<=value.\n",
      " |  \n",
      " |  __len__(self, /)\n",
      " |      Return len(self).\n",
      " |  \n",
      " |  __lt__(self, value, /)\n",
      " |      Return self<value.\n",
      " |  \n",
      " |  __mul__(self, value, /)\n",
      " |      Return self*value.\n",
      " |  \n",
      " |  __ne__(self, value, /)\n",
      " |      Return self!=value.\n",
      " |  \n",
      " |  __repr__(self, /)\n",
      " |      Return repr(self).\n",
      " |  \n",
      " |  __reversed__(self, /)\n",
      " |      Return a reverse iterator over the list.\n",
      " |  \n",
      " |  __rmul__(self, value, /)\n",
      " |      Return value*self.\n",
      " |  \n",
      " |  __setitem__(self, key, value, /)\n",
      " |      Set self[key] to value.\n",
      " |  \n",
      " |  __sizeof__(self, /)\n",
      " |      Return the size of the list in memory, in bytes.\n",
      " |  \n",
      " |  append(self, object, /)\n",
      " |      Append object to the end of the list.\n",
      " |  \n",
      " |  clear(self, /)\n",
      " |      Remove all items from list.\n",
      " |  \n",
      " |  copy(self, /)\n",
      " |      Return a shallow copy of the list.\n",
      " |  \n",
      " |  count(self, value, /)\n",
      " |      Return number of occurrences of value.\n",
      " |  \n",
      " |  extend(self, iterable, /)\n",
      " |      Extend list by appending elements from the iterable.\n",
      " |  \n",
      " |  index(self, value, start=0, stop=9223372036854775807, /)\n",
      " |      Return first index of value.\n",
      " |      \n",
      " |      Raises ValueError if the value is not present.\n",
      " |  \n",
      " |  insert(self, index, object, /)\n",
      " |      Insert object before index.\n",
      " |  \n",
      " |  pop(self, index=-1, /)\n",
      " |      Remove and return item at index (default last).\n",
      " |      \n",
      " |      Raises IndexError if list is empty or index is out of range.\n",
      " |  \n",
      " |  remove(self, value, /)\n",
      " |      Remove first occurrence of value.\n",
      " |      \n",
      " |      Raises ValueError if the value is not present.\n",
      " |  \n",
      " |  reverse(self, /)\n",
      " |      Reverse *IN PLACE*.\n",
      " |  \n",
      " |  sort(self, /, *, key=None, reverse=False)\n",
      " |      Stable sort *IN PLACE*.\n",
      " |  \n",
      " |  ----------------------------------------------------------------------\n",
      " |  Static methods defined here:\n",
      " |  \n",
      " |  __new__(*args, **kwargs) from builtins.type\n",
      " |      Create and return a new object.  See help(type) for accurate signature.\n",
      " |  \n",
      " |  ----------------------------------------------------------------------\n",
      " |  Data and other attributes defined here:\n",
      " |  \n",
      " |  __hash__ = None\n",
      "\n"
     ]
    }
   ],
   "source": [
    "test = [1,2,3]\n",
    "tester = test\n",
    "print(tester)\n",
    "help(test)"
   ]
  },
  {
   "cell_type": "code",
   "execution_count": 8,
   "id": "f5a88c1e",
   "metadata": {
    "execution": {
     "iopub.execute_input": "2022-07-19T00:41:32.273448Z",
     "iopub.status.busy": "2022-07-19T00:41:32.272507Z",
     "iopub.status.idle": "2022-07-19T00:41:32.282030Z",
     "shell.execute_reply": "2022-07-19T00:41:32.280911Z"
    },
    "papermill": {
     "duration": 0.017871,
     "end_time": "2022-07-19T00:41:32.284177",
     "exception": false,
     "start_time": "2022-07-19T00:41:32.266306",
     "status": "completed"
    },
    "tags": []
   },
   "outputs": [
    {
     "data": {
      "application/javascript": [
       "parent.postMessage({\"jupyterEvent\": \"custom.exercise_interaction\", \"data\": {\"outcomeType\": 1, \"valueTowardsCompletion\": 0.2, \"interactionType\": 1, \"questionType\": 2, \"questionId\": \"3_PurpleShell\", \"learnToolsVersion\": \"0.3.4\", \"failureMessage\": \"\", \"exceptionClass\": \"\", \"trace\": \"\"}}, \"*\")"
      ],
      "text/plain": [
       "<IPython.core.display.Javascript object>"
      ]
     },
     "metadata": {},
     "output_type": "display_data"
    },
    {
     "data": {
      "text/markdown": [
       "<span style=\"color:#33cc33\">Correct</span>"
      ],
      "text/plain": [
       "Correct"
      ]
     },
     "metadata": {},
     "output_type": "display_data"
    }
   ],
   "source": [
    "def purple_shell(racers):\n",
    "    \"\"\"Given a list of racers, set the first place racer (at the front of the list) to last\n",
    "    place and vice versa.\n",
    "    \n",
    "    >>> r = [\"Mario\", \"Bowser\", \"Luigi\"]\n",
    "    >>> purple_shell(r)\n",
    "    >>> r\n",
    "    [\"Luigi\", \"Bowser\", \"Mario\"]\n",
    "    \"\"\"\n",
    "    racers[0], racers[-1] = racers[-1], racers[0]\n",
    "    pass\n",
    "\n",
    "# Check your answer\n",
    "q3.check()"
   ]
  },
  {
   "cell_type": "code",
   "execution_count": 9,
   "id": "9365a545",
   "metadata": {
    "execution": {
     "iopub.execute_input": "2022-07-19T00:41:32.296461Z",
     "iopub.status.busy": "2022-07-19T00:41:32.296084Z",
     "iopub.status.idle": "2022-07-19T00:41:32.301078Z",
     "shell.execute_reply": "2022-07-19T00:41:32.299896Z"
    },
    "papermill": {
     "duration": 0.013819,
     "end_time": "2022-07-19T00:41:32.303390",
     "exception": false,
     "start_time": "2022-07-19T00:41:32.289571",
     "status": "completed"
    },
    "tags": []
   },
   "outputs": [],
   "source": [
    "#q3.hint()\n",
    "#q3.solution()"
   ]
  },
  {
   "cell_type": "markdown",
   "id": "0c15589d",
   "metadata": {
    "papermill": {
     "duration": 0.004969,
     "end_time": "2022-07-19T00:41:32.314039",
     "exception": false,
     "start_time": "2022-07-19T00:41:32.309070",
     "status": "completed"
    },
    "tags": []
   },
   "source": [
    "# 4.\n",
    "\n",
    "What are the lengths of the following lists? Fill in the variable `lengths` with your predictions. (Try to make a prediction for each list *without* just calling `len()` on it.)"
   ]
  },
  {
   "cell_type": "code",
   "execution_count": 10,
   "id": "a73e2e5e",
   "metadata": {
    "execution": {
     "iopub.execute_input": "2022-07-19T00:41:32.326293Z",
     "iopub.status.busy": "2022-07-19T00:41:32.325521Z",
     "iopub.status.idle": "2022-07-19T00:41:32.336142Z",
     "shell.execute_reply": "2022-07-19T00:41:32.334919Z"
    },
    "papermill": {
     "duration": 0.019169,
     "end_time": "2022-07-19T00:41:32.338263",
     "exception": false,
     "start_time": "2022-07-19T00:41:32.319094",
     "status": "completed"
    },
    "tags": []
   },
   "outputs": [
    {
     "data": {
      "application/javascript": [
       "parent.postMessage({\"jupyterEvent\": \"custom.exercise_interaction\", \"data\": {\"outcomeType\": 1, \"valueTowardsCompletion\": 0.2, \"interactionType\": 1, \"questionType\": 1, \"questionId\": \"4_UnderstandLen\", \"learnToolsVersion\": \"0.3.4\", \"failureMessage\": \"\", \"exceptionClass\": \"\", \"trace\": \"\"}}, \"*\")"
      ],
      "text/plain": [
       "<IPython.core.display.Javascript object>"
      ]
     },
     "metadata": {},
     "output_type": "display_data"
    },
    {
     "data": {
      "text/markdown": [
       "<span style=\"color:#33cc33\">Correct:</span> \n",
       "\n",
       "\n",
       "- a: There are three items in this list. Nothing tricky yet.\n",
       "- b: The list `[2, 3]` counts as a single item. It has one item before it. So we have 2 items in the list\n",
       "- c: The empty list has 0 items\n",
       "- d: The expression is the same as the list `[2, 3]`, which has length 2."
      ],
      "text/plain": [
       "Correct: \n",
       "\n",
       "\n",
       "- a: There are three items in this list. Nothing tricky yet.\n",
       "- b: The list `[2, 3]` counts as a single item. It has one item before it. So we have 2 items in the list\n",
       "- c: The empty list has 0 items\n",
       "- d: The expression is the same as the list `[2, 3]`, which has length 2."
      ]
     },
     "metadata": {},
     "output_type": "display_data"
    }
   ],
   "source": [
    "a = [1, 2, 3]\n",
    "b = [1, [2, 3]]\n",
    "c = []\n",
    "d = [1, 2, 3][1:]\n",
    "\n",
    "# Put your predictions in the list below. Lengths should contain 4 numbers, the\n",
    "# first being the length of a, the second being the length of b and so on.\n",
    "\n",
    "lengths = [len(a), len(b), len(c), len(d)]\n",
    "\n",
    "# Check your answer\n",
    "q4.check()"
   ]
  },
  {
   "cell_type": "code",
   "execution_count": 11,
   "id": "6b419fd7",
   "metadata": {
    "collapsed": true,
    "execution": {
     "iopub.execute_input": "2022-07-19T00:41:32.351800Z",
     "iopub.status.busy": "2022-07-19T00:41:32.351090Z",
     "iopub.status.idle": "2022-07-19T00:41:32.355862Z",
     "shell.execute_reply": "2022-07-19T00:41:32.354807Z"
    },
    "jupyter": {
     "outputs_hidden": true
    },
    "papermill": {
     "duration": 0.013725,
     "end_time": "2022-07-19T00:41:32.357935",
     "exception": false,
     "start_time": "2022-07-19T00:41:32.344210",
     "status": "completed"
    },
    "tags": []
   },
   "outputs": [],
   "source": [
    "# line below provides some explanation\n",
    "#q4.solution()"
   ]
  },
  {
   "cell_type": "markdown",
   "id": "577429b0",
   "metadata": {
    "papermill": {
     "duration": 0.005152,
     "end_time": "2022-07-19T00:41:32.368661",
     "exception": false,
     "start_time": "2022-07-19T00:41:32.363509",
     "status": "completed"
    },
    "tags": []
   },
   "source": [
    "# 5. <span title=\"A bit spicy\" style=\"color: darkgreen \">🌶️</span>\n",
    "\n",
    "We're using lists to record people who attended our party and what order they arrived in. For example, the following list represents a party with 7 guests, in which Adela showed up first and Ford was the last to arrive:\n",
    "\n",
    "    party_attendees = ['Adela', 'Fleda', 'Owen', 'May', 'Mona', 'Gilbert', 'Ford']\n",
    "\n",
    "A guest is considered 'fashionably late' if they arrived after at least half of the party's guests. However, they must not be the very last guest (that's taking it too far). In the above example, Mona and Gilbert are the only guests who were fashionably late.\n",
    "\n",
    "Complete the function below which takes a list of party attendees as well as a person, and tells us whether that person is fashionably late."
   ]
  },
  {
   "cell_type": "code",
   "execution_count": 12,
   "id": "1bdd92c0",
   "metadata": {
    "execution": {
     "iopub.execute_input": "2022-07-19T00:41:32.381369Z",
     "iopub.status.busy": "2022-07-19T00:41:32.380630Z",
     "iopub.status.idle": "2022-07-19T00:41:32.390471Z",
     "shell.execute_reply": "2022-07-19T00:41:32.389533Z"
    },
    "papermill": {
     "duration": 0.018422,
     "end_time": "2022-07-19T00:41:32.392516",
     "exception": false,
     "start_time": "2022-07-19T00:41:32.374094",
     "status": "completed"
    },
    "tags": []
   },
   "outputs": [
    {
     "data": {
      "application/javascript": [
       "parent.postMessage({\"jupyterEvent\": \"custom.exercise_interaction\", \"data\": {\"outcomeType\": 1, \"valueTowardsCompletion\": 0.2, \"interactionType\": 1, \"questionType\": 2, \"questionId\": \"5_FashionablyLate\", \"learnToolsVersion\": \"0.3.4\", \"failureMessage\": \"\", \"exceptionClass\": \"\", \"trace\": \"\"}}, \"*\")"
      ],
      "text/plain": [
       "<IPython.core.display.Javascript object>"
      ]
     },
     "metadata": {},
     "output_type": "display_data"
    },
    {
     "data": {
      "text/markdown": [
       "<span style=\"color:#33cc33\">Correct</span>"
      ],
      "text/plain": [
       "Correct"
      ]
     },
     "metadata": {},
     "output_type": "display_data"
    }
   ],
   "source": [
    "def fashionably_late(arrivals, name):\n",
    "    \"\"\"Given an ordered list of arrivals to the party and a name, return whether the guest with that\n",
    "    name was fashionably late.\n",
    "    \"\"\"\n",
    "    x = round(len(arrivals) / 2)\n",
    "    y = arrivals[x:-1]\n",
    "    z = name in y\n",
    "    return z\n",
    "    pass \n",
    "\n",
    "# Check your answer\n",
    "q5.check()"
   ]
  },
  {
   "cell_type": "code",
   "execution_count": 13,
   "id": "8cdb8643",
   "metadata": {
    "collapsed": true,
    "execution": {
     "iopub.execute_input": "2022-07-19T00:41:32.406824Z",
     "iopub.status.busy": "2022-07-19T00:41:32.405681Z",
     "iopub.status.idle": "2022-07-19T00:41:32.410485Z",
     "shell.execute_reply": "2022-07-19T00:41:32.409534Z"
    },
    "jupyter": {
     "outputs_hidden": true
    },
    "papermill": {
     "duration": 0.014493,
     "end_time": "2022-07-19T00:41:32.412722",
     "exception": false,
     "start_time": "2022-07-19T00:41:32.398229",
     "status": "completed"
    },
    "tags": []
   },
   "outputs": [],
   "source": [
    "#q5.hint()\n",
    "#q5.solution()"
   ]
  },
  {
   "cell_type": "markdown",
   "id": "9f03822c",
   "metadata": {
    "papermill": {
     "duration": 0.005391,
     "end_time": "2022-07-19T00:41:32.423854",
     "exception": false,
     "start_time": "2022-07-19T00:41:32.418463",
     "status": "completed"
    },
    "tags": []
   },
   "source": [
    "# Keep Going\n",
    "\n",
    "That's it for lists and tuples! Now you have the baseline knowledge to **[learn about loops](https://www.kaggle.com/colinmorris/loops-and-list-comprehensions)**, which is where lists and tuples get really interesting. "
   ]
  },
  {
   "cell_type": "markdown",
   "id": "8ebf967e",
   "metadata": {
    "papermill": {
     "duration": 0.005685,
     "end_time": "2022-07-19T00:41:32.435267",
     "exception": false,
     "start_time": "2022-07-19T00:41:32.429582",
     "status": "completed"
    },
    "tags": []
   },
   "source": [
    "---\n",
    "\n",
    "\n",
    "\n",
    "\n",
    "*Have questions or comments? Visit the [course discussion forum](https://www.kaggle.com/learn/python/discussion) to chat with other learners.*"
   ]
  }
 ],
 "metadata": {
  "kernelspec": {
   "display_name": "Python 3",
   "language": "python",
   "name": "python3"
  },
  "language_info": {
   "codemirror_mode": {
    "name": "ipython",
    "version": 3
   },
   "file_extension": ".py",
   "mimetype": "text/x-python",
   "name": "python",
   "nbconvert_exporter": "python",
   "pygments_lexer": "ipython3",
   "version": "3.7.12"
  },
  "papermill": {
   "default_parameters": {},
   "duration": 10.185468,
   "end_time": "2022-07-19T00:41:33.062870",
   "environment_variables": {},
   "exception": null,
   "input_path": "__notebook__.ipynb",
   "output_path": "__notebook__.ipynb",
   "parameters": {},
   "start_time": "2022-07-19T00:41:22.877402",
   "version": "2.3.4"
  }
 },
 "nbformat": 4,
 "nbformat_minor": 5
}

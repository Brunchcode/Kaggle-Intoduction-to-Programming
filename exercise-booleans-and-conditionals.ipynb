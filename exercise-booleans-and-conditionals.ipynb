{
 "cells": [
  {
   "cell_type": "markdown",
   "id": "9a5cb22f",
   "metadata": {
    "papermill": {
     "duration": 0.009433,
     "end_time": "2022-07-18T00:29:20.264590",
     "exception": false,
     "start_time": "2022-07-18T00:29:20.255157",
     "status": "completed"
    },
    "tags": []
   },
   "source": [
    "**This notebook is an exercise in the [Python](https://www.kaggle.com/learn/python) course.  You can reference the tutorial at [this link](https://www.kaggle.com/colinmorris/booleans-and-conditionals).**\n",
    "\n",
    "---\n"
   ]
  },
  {
   "cell_type": "markdown",
   "id": "20605cbd",
   "metadata": {
    "papermill": {
     "duration": 0.00731,
     "end_time": "2022-07-18T00:29:20.280189",
     "exception": false,
     "start_time": "2022-07-18T00:29:20.272879",
     "status": "completed"
    },
    "tags": []
   },
   "source": [
    "In this exercise, you'll put to work what you have learned about booleans and conditionals.\n",
    "\n",
    "To get started, **run the setup code below** before writing your own code (and if you leave this notebook and come back later, don't forget to run the setup code again)."
   ]
  },
  {
   "cell_type": "code",
   "execution_count": 1,
   "id": "b2bcb9e7",
   "metadata": {
    "execution": {
     "iopub.execute_input": "2022-07-18T00:29:20.299258Z",
     "iopub.status.busy": "2022-07-18T00:29:20.298807Z",
     "iopub.status.idle": "2022-07-18T00:29:20.350510Z",
     "shell.execute_reply": "2022-07-18T00:29:20.348866Z"
    },
    "papermill": {
     "duration": 0.065747,
     "end_time": "2022-07-18T00:29:20.354182",
     "exception": false,
     "start_time": "2022-07-18T00:29:20.288435",
     "status": "completed"
    },
    "tags": []
   },
   "outputs": [
    {
     "name": "stdout",
     "output_type": "stream",
     "text": [
      "Setup complete.\n"
     ]
    }
   ],
   "source": [
    "from learntools.core import binder; binder.bind(globals())\n",
    "from learntools.python.ex3 import *\n",
    "print('Setup complete.')"
   ]
  },
  {
   "cell_type": "markdown",
   "id": "16804a64",
   "metadata": {
    "papermill": {
     "duration": 0.007468,
     "end_time": "2022-07-18T00:29:20.369716",
     "exception": false,
     "start_time": "2022-07-18T00:29:20.362248",
     "status": "completed"
    },
    "tags": []
   },
   "source": [
    "# 1.\n",
    "\n",
    "Many programming languages have [`sign`](https://en.wikipedia.org/wiki/Sign_function) available as a built-in function. Python doesn't, but we can define our own!\n",
    "\n",
    "In the cell below, define a function called `sign` which takes a numerical argument and returns -1 if it's negative, 1 if it's positive, and 0 if it's 0."
   ]
  },
  {
   "cell_type": "code",
   "execution_count": 2,
   "id": "35745f87",
   "metadata": {
    "execution": {
     "iopub.execute_input": "2022-07-18T00:29:20.387560Z",
     "iopub.status.busy": "2022-07-18T00:29:20.386817Z",
     "iopub.status.idle": "2022-07-18T00:29:20.396782Z",
     "shell.execute_reply": "2022-07-18T00:29:20.395757Z"
    },
    "papermill": {
     "duration": 0.021314,
     "end_time": "2022-07-18T00:29:20.398804",
     "exception": false,
     "start_time": "2022-07-18T00:29:20.377490",
     "status": "completed"
    },
    "tags": []
   },
   "outputs": [
    {
     "data": {
      "application/javascript": [
       "parent.postMessage({\"jupyterEvent\": \"custom.exercise_interaction\", \"data\": {\"outcomeType\": 1, \"valueTowardsCompletion\": 0.2, \"interactionType\": 1, \"questionType\": 2, \"questionId\": \"1_SignFunctionProblem\", \"learnToolsVersion\": \"0.3.4\", \"failureMessage\": \"\", \"exceptionClass\": \"\", \"trace\": \"\"}}, \"*\")"
      ],
      "text/plain": [
       "<IPython.core.display.Javascript object>"
      ]
     },
     "metadata": {},
     "output_type": "display_data"
    },
    {
     "data": {
      "text/markdown": [
       "<span style=\"color:#33cc33\">Correct</span>"
      ],
      "text/plain": [
       "Correct"
      ]
     },
     "metadata": {},
     "output_type": "display_data"
    }
   ],
   "source": [
    "# Your code goes here. Define a function called 'sign'\n",
    "def sign(x):\n",
    "    if x < 0:\n",
    "        return -1\n",
    "    elif x > 0:\n",
    "        return 1\n",
    "    else:\n",
    "        return 0\n",
    "\n",
    "# Check your answer\n",
    "q1.check()"
   ]
  },
  {
   "cell_type": "code",
   "execution_count": 3,
   "id": "32aa9c13",
   "metadata": {
    "execution": {
     "iopub.execute_input": "2022-07-18T00:29:20.416727Z",
     "iopub.status.busy": "2022-07-18T00:29:20.415971Z",
     "iopub.status.idle": "2022-07-18T00:29:20.420126Z",
     "shell.execute_reply": "2022-07-18T00:29:20.419304Z"
    },
    "papermill": {
     "duration": 0.015414,
     "end_time": "2022-07-18T00:29:20.422150",
     "exception": false,
     "start_time": "2022-07-18T00:29:20.406736",
     "status": "completed"
    },
    "tags": []
   },
   "outputs": [],
   "source": [
    "#q1.solution()"
   ]
  },
  {
   "cell_type": "markdown",
   "id": "3c9ab0c7",
   "metadata": {
    "papermill": {
     "duration": 0.007798,
     "end_time": "2022-07-18T00:29:20.438026",
     "exception": false,
     "start_time": "2022-07-18T00:29:20.430228",
     "status": "completed"
    },
    "tags": []
   },
   "source": [
    "# 2.\n",
    "\n",
    "We've decided to add \"logging\" to our `to_smash` function from the previous exercise."
   ]
  },
  {
   "cell_type": "code",
   "execution_count": 4,
   "id": "8685ba6b",
   "metadata": {
    "execution": {
     "iopub.execute_input": "2022-07-18T00:29:20.456769Z",
     "iopub.status.busy": "2022-07-18T00:29:20.456111Z",
     "iopub.status.idle": "2022-07-18T00:29:20.463859Z",
     "shell.execute_reply": "2022-07-18T00:29:20.462572Z"
    },
    "papermill": {
     "duration": 0.019863,
     "end_time": "2022-07-18T00:29:20.466689",
     "exception": false,
     "start_time": "2022-07-18T00:29:20.446826",
     "status": "completed"
    },
    "tags": []
   },
   "outputs": [
    {
     "name": "stdout",
     "output_type": "stream",
     "text": [
      "Splitting 91 candies\n"
     ]
    },
    {
     "data": {
      "text/plain": [
       "1"
      ]
     },
     "execution_count": 4,
     "metadata": {},
     "output_type": "execute_result"
    }
   ],
   "source": [
    "def to_smash(total_candies):\n",
    "    \"\"\"Return the number of leftover candies that must be smashed after distributing\n",
    "    the given number of candies evenly between 3 friends.\n",
    "    \n",
    "    >>> to_smash(91)\n",
    "    1\n",
    "    \"\"\"\n",
    "    print(\"Splitting\", total_candies, \"candies\")\n",
    "    return total_candies % 3\n",
    "\n",
    "to_smash(91)"
   ]
  },
  {
   "cell_type": "markdown",
   "id": "4213a3ba",
   "metadata": {
    "papermill": {
     "duration": 0.008066,
     "end_time": "2022-07-18T00:29:20.483400",
     "exception": false,
     "start_time": "2022-07-18T00:29:20.475334",
     "status": "completed"
    },
    "tags": []
   },
   "source": [
    "What happens if we call it with `total_candies = 1`?"
   ]
  },
  {
   "cell_type": "code",
   "execution_count": 5,
   "id": "5a832797",
   "metadata": {
    "execution": {
     "iopub.execute_input": "2022-07-18T00:29:20.502238Z",
     "iopub.status.busy": "2022-07-18T00:29:20.501112Z",
     "iopub.status.idle": "2022-07-18T00:29:20.509046Z",
     "shell.execute_reply": "2022-07-18T00:29:20.507681Z"
    },
    "papermill": {
     "duration": 0.019602,
     "end_time": "2022-07-18T00:29:20.511290",
     "exception": false,
     "start_time": "2022-07-18T00:29:20.491688",
     "status": "completed"
    },
    "tags": []
   },
   "outputs": [
    {
     "name": "stdout",
     "output_type": "stream",
     "text": [
      "Splitting 1 candies\n"
     ]
    },
    {
     "data": {
      "text/plain": [
       "1"
      ]
     },
     "execution_count": 5,
     "metadata": {},
     "output_type": "execute_result"
    }
   ],
   "source": [
    "to_smash(1)"
   ]
  },
  {
   "cell_type": "markdown",
   "id": "390391c5",
   "metadata": {
    "papermill": {
     "duration": 0.008049,
     "end_time": "2022-07-18T00:29:20.527561",
     "exception": false,
     "start_time": "2022-07-18T00:29:20.519512",
     "status": "completed"
    },
    "tags": []
   },
   "source": [
    "That isn't great grammar!\n",
    "\n",
    "Modify the definition in the cell below to correct the grammar of our print statement. (If there's only one candy, we should use the singular \"candy\" instead of the plural \"candies\")"
   ]
  },
  {
   "cell_type": "code",
   "execution_count": 6,
   "id": "0bb1385a",
   "metadata": {
    "execution": {
     "iopub.execute_input": "2022-07-18T00:29:20.546356Z",
     "iopub.status.busy": "2022-07-18T00:29:20.545572Z",
     "iopub.status.idle": "2022-07-18T00:29:20.554318Z",
     "shell.execute_reply": "2022-07-18T00:29:20.553001Z"
    },
    "papermill": {
     "duration": 0.020518,
     "end_time": "2022-07-18T00:29:20.556491",
     "exception": false,
     "start_time": "2022-07-18T00:29:20.535973",
     "status": "completed"
    },
    "tags": []
   },
   "outputs": [
    {
     "name": "stdout",
     "output_type": "stream",
     "text": [
      "Splitting 91 candies\n",
      "Splitting 1 candy\n"
     ]
    },
    {
     "data": {
      "text/plain": [
       "1"
      ]
     },
     "execution_count": 6,
     "metadata": {},
     "output_type": "execute_result"
    }
   ],
   "source": [
    "def to_smash(total_candies):\n",
    "    \"\"\"Return the number of leftover candies that must be smashed after distributing\n",
    "    the given number of candies evenly between 3 friends.\n",
    "    \n",
    "    >>> to_smash(91)\n",
    "    1\n",
    "    \"\"\"\n",
    "    if total_candies == 1:\n",
    "        print(\"Splitting\", total_candies, \"candy\")\n",
    "    else:\n",
    "        print(\"Splitting\", total_candies, \"candies\")\n",
    "    return total_candies % 3\n",
    "\n",
    "to_smash(91)\n",
    "to_smash(1)"
   ]
  },
  {
   "cell_type": "markdown",
   "id": "a273acb6",
   "metadata": {
    "papermill": {
     "duration": 0.008443,
     "end_time": "2022-07-18T00:29:20.573407",
     "exception": false,
     "start_time": "2022-07-18T00:29:20.564964",
     "status": "completed"
    },
    "tags": []
   },
   "source": [
    "To get credit for completing this problem, and to see the official answer, run the code cell below."
   ]
  },
  {
   "cell_type": "code",
   "execution_count": 7,
   "id": "f8460575",
   "metadata": {
    "execution": {
     "iopub.execute_input": "2022-07-18T00:29:20.592425Z",
     "iopub.status.busy": "2022-07-18T00:29:20.591998Z",
     "iopub.status.idle": "2022-07-18T00:29:20.600321Z",
     "shell.execute_reply": "2022-07-18T00:29:20.598972Z"
    },
    "papermill": {
     "duration": 0.020665,
     "end_time": "2022-07-18T00:29:20.602842",
     "exception": false,
     "start_time": "2022-07-18T00:29:20.582177",
     "status": "completed"
    },
    "tags": []
   },
   "outputs": [
    {
     "data": {
      "application/javascript": [
       "parent.postMessage({\"jupyterEvent\": \"custom.exercise_interaction\", \"data\": {\"interactionType\": 3, \"questionType\": 4, \"questionId\": \"2_PluralizationProblem\", \"learnToolsVersion\": \"0.3.4\", \"valueTowardsCompletion\": 0.0, \"failureMessage\": \"\", \"exceptionClass\": \"\", \"trace\": \"\", \"outcomeType\": 4}}, \"*\")"
      ],
      "text/plain": [
       "<IPython.core.display.Javascript object>"
      ]
     },
     "metadata": {},
     "output_type": "display_data"
    },
    {
     "data": {
      "text/markdown": [
       "<span style=\"color:#33cc99\">Solution:</span> A straightforward (and totally fine) solution is to replace the original `print` call with:\n",
       "\n",
       "```python\n",
       "if total_candies == 1:\n",
       "    print(\"Splitting 1 candy\")\n",
       "else:\n",
       "    print(\"Splitting\", total_candies, \"candies\")\n",
       "```\n",
       "\n",
       "Here's a slightly more succinct solution using a conditional expression:\n",
       "\n",
       "```python\n",
       "print(\"Splitting\", total_candies, \"candy\" if total_candies == 1 else \"candies\")\n",
       "```"
      ],
      "text/plain": [
       "Solution: A straightforward (and totally fine) solution is to replace the original `print` call with:\n",
       "\n",
       "```python\n",
       "if total_candies == 1:\n",
       "    print(\"Splitting 1 candy\")\n",
       "else:\n",
       "    print(\"Splitting\", total_candies, \"candies\")\n",
       "```\n",
       "\n",
       "Here's a slightly more succinct solution using a conditional expression:\n",
       "\n",
       "```python\n",
       "print(\"Splitting\", total_candies, \"candy\" if total_candies == 1 else \"candies\")\n",
       "```"
      ]
     },
     "metadata": {},
     "output_type": "display_data"
    }
   ],
   "source": [
    "# Check your answer (Run this code cell to receive credit!)\n",
    "q2.solution()"
   ]
  },
  {
   "cell_type": "markdown",
   "id": "91755d0b",
   "metadata": {
    "papermill": {
     "duration": 0.008326,
     "end_time": "2022-07-18T00:29:20.619825",
     "exception": false,
     "start_time": "2022-07-18T00:29:20.611499",
     "status": "completed"
    },
    "tags": []
   },
   "source": [
    "# 3. <span title=\"A bit spicy\" style=\"color: darkgreen \">🌶️</span>\n",
    "\n",
    "In the tutorial, we talked about deciding whether we're prepared for the weather. I said that I'm safe from today's weather if...\n",
    "- I have an umbrella...\n",
    "- or if the rain isn't too heavy and I have a hood...\n",
    "- otherwise, I'm still fine unless it's raining *and* it's a workday\n",
    "\n",
    "The function below uses our first attempt at turning this logic into a Python expression. I claimed that there was a bug in that code. Can you find it?\n",
    "\n",
    "To prove that `prepared_for_weather` is buggy, come up with a set of inputs where either:\n",
    "- the function returns `False` (but should have returned `True`), or\n",
    "- the function returned `True` (but should have returned `False`).\n",
    "\n",
    "To get credit for completing this question, your code should return a <font color='#33cc33'>Correct</font> result."
   ]
  },
  {
   "cell_type": "code",
   "execution_count": 8,
   "id": "e6aa24b7",
   "metadata": {
    "execution": {
     "iopub.execute_input": "2022-07-18T00:29:20.639220Z",
     "iopub.status.busy": "2022-07-18T00:29:20.638454Z",
     "iopub.status.idle": "2022-07-18T00:29:20.652208Z",
     "shell.execute_reply": "2022-07-18T00:29:20.651145Z"
    },
    "papermill": {
     "duration": 0.025873,
     "end_time": "2022-07-18T00:29:20.654429",
     "exception": false,
     "start_time": "2022-07-18T00:29:20.628556",
     "status": "completed"
    },
    "tags": []
   },
   "outputs": [
    {
     "name": "stdout",
     "output_type": "stream",
     "text": [
      "False\n"
     ]
    },
    {
     "data": {
      "application/javascript": [
       "parent.postMessage({\"jupyterEvent\": \"custom.exercise_interaction\", \"data\": {\"outcomeType\": 1, \"valueTowardsCompletion\": 0.2, \"interactionType\": 1, \"questionType\": 1, \"questionId\": \"3_WeatherDebug\", \"learnToolsVersion\": \"0.3.4\", \"failureMessage\": \"\", \"exceptionClass\": \"\", \"trace\": \"\"}}, \"*\")"
      ],
      "text/plain": [
       "<IPython.core.display.Javascript object>"
      ]
     },
     "metadata": {},
     "output_type": "display_data"
    },
    {
     "data": {
      "text/markdown": [
       "<span style=\"color:#33cc33\">Correct:</span> \n",
       "\n",
       "One example of a failing test case is:\n",
       "\n",
       "```python\n",
       "have_umbrella = False\n",
       "rain_level = 0.0\n",
       "have_hood = False\n",
       "is_workday = False\n",
       "```\n",
       "\n",
       "Clearly we're prepared for the weather in this case. It's not raining. Not only that, it's not a workday, so we don't even need to leave the house! But our function will return False on these inputs.\n",
       "\n",
       "The key problem is that Python implictly parenthesizes the last part as:\n",
       "\n",
       "```python\n",
       "(not (rain_level > 0)) and is_workday\n",
       "```\n",
       "\n",
       "Whereas what we were trying to express would look more like:\n",
       "\n",
       "```python\n",
       "not (rain_level > 0 and is_workday)\n",
       "```\n"
      ],
      "text/plain": [
       "Correct: \n",
       "\n",
       "One example of a failing test case is:\n",
       "\n",
       "```python\n",
       "have_umbrella = False\n",
       "rain_level = 0.0\n",
       "have_hood = False\n",
       "is_workday = False\n",
       "```\n",
       "\n",
       "Clearly we're prepared for the weather in this case. It's not raining. Not only that, it's not a workday, so we don't even need to leave the house! But our function will return False on these inputs.\n",
       "\n",
       "The key problem is that Python implictly parenthesizes the last part as:\n",
       "\n",
       "```python\n",
       "(not (rain_level > 0)) and is_workday\n",
       "```\n",
       "\n",
       "Whereas what we were trying to express would look more like:\n",
       "\n",
       "```python\n",
       "not (rain_level > 0 and is_workday)\n",
       "```"
      ]
     },
     "metadata": {},
     "output_type": "display_data"
    }
   ],
   "source": [
    "def prepared_for_weather(have_umbrella, rain_level, have_hood, is_workday):\n",
    "    # Don't change this code. Our goal is just to find the bug, not fix it!\n",
    "    return have_umbrella or rain_level < 5 and have_hood or not rain_level > 0 and is_workday\n",
    "\n",
    "# Change the values of these inputs so they represent a case where prepared_for_weather\n",
    "# returns the wrong answer.\n",
    "have_umbrella = False\n",
    "rain_level = 0.0\n",
    "have_hood = False\n",
    "is_workday = False\n",
    "\n",
    "# Check what the function returns given the current values of the variables above\n",
    "actual = prepared_for_weather(have_umbrella, rain_level, have_hood, is_workday)\n",
    "print(actual)\n",
    "\n",
    "# Check your answer\n",
    "q3.check()"
   ]
  },
  {
   "cell_type": "code",
   "execution_count": 9,
   "id": "a5b9eabd",
   "metadata": {
    "execution": {
     "iopub.execute_input": "2022-07-18T00:29:20.674204Z",
     "iopub.status.busy": "2022-07-18T00:29:20.673206Z",
     "iopub.status.idle": "2022-07-18T00:29:20.678122Z",
     "shell.execute_reply": "2022-07-18T00:29:20.677170Z"
    },
    "papermill": {
     "duration": 0.017047,
     "end_time": "2022-07-18T00:29:20.680439",
     "exception": false,
     "start_time": "2022-07-18T00:29:20.663392",
     "status": "completed"
    },
    "tags": []
   },
   "outputs": [],
   "source": [
    "#q3.hint()\n",
    "#q3.solution()"
   ]
  },
  {
   "cell_type": "markdown",
   "id": "6bbf68ce",
   "metadata": {
    "papermill": {
     "duration": 0.008692,
     "end_time": "2022-07-18T00:29:20.698451",
     "exception": false,
     "start_time": "2022-07-18T00:29:20.689759",
     "status": "completed"
    },
    "tags": []
   },
   "source": [
    "# 4.\n",
    "\n",
    "The function `is_negative` below is implemented correctly - it returns True if the given number is negative and False otherwise.\n",
    "\n",
    "However, it's more verbose than it needs to be. We can actually reduce the number of lines of code in this function by *75%* while keeping the same behaviour. \n",
    "\n",
    "See if you can come up with an equivalent body that uses just **one line** of code, and put it in the function `concise_is_negative`. (HINT: you don't even need Python's ternary syntax)"
   ]
  },
  {
   "cell_type": "code",
   "execution_count": 10,
   "id": "5436e5ba",
   "metadata": {
    "execution": {
     "iopub.execute_input": "2022-07-18T00:29:20.719159Z",
     "iopub.status.busy": "2022-07-18T00:29:20.718311Z",
     "iopub.status.idle": "2022-07-18T00:29:20.728914Z",
     "shell.execute_reply": "2022-07-18T00:29:20.728040Z"
    },
    "papermill": {
     "duration": 0.02341,
     "end_time": "2022-07-18T00:29:20.731135",
     "exception": false,
     "start_time": "2022-07-18T00:29:20.707725",
     "status": "completed"
    },
    "tags": []
   },
   "outputs": [
    {
     "data": {
      "application/javascript": [
       "parent.postMessage({\"jupyterEvent\": \"custom.exercise_interaction\", \"data\": {\"outcomeType\": 1, \"valueTowardsCompletion\": 0.2, \"interactionType\": 1, \"questionType\": 2, \"questionId\": \"4_ConciseIsNegative\", \"learnToolsVersion\": \"0.3.4\", \"failureMessage\": \"\", \"exceptionClass\": \"\", \"trace\": \"\"}}, \"*\")"
      ],
      "text/plain": [
       "<IPython.core.display.Javascript object>"
      ]
     },
     "metadata": {},
     "output_type": "display_data"
    },
    {
     "data": {
      "text/markdown": [
       "<span style=\"color:#33cc33\">Correct</span>"
      ],
      "text/plain": [
       "Correct"
      ]
     },
     "metadata": {},
     "output_type": "display_data"
    }
   ],
   "source": [
    "def is_negative(number):\n",
    "    if number < 0:\n",
    "        return True\n",
    "    else:\n",
    "        return False\n",
    "\n",
    "def concise_is_negative(number):\n",
    "    return (True if number < 0 else False)\n",
    "    pass # Your code goes here (try to keep it to one line!)\n",
    "\n",
    "# Check your answer\n",
    "q4.check()"
   ]
  },
  {
   "cell_type": "code",
   "execution_count": 11,
   "id": "e589bcde",
   "metadata": {
    "execution": {
     "iopub.execute_input": "2022-07-18T00:29:20.751866Z",
     "iopub.status.busy": "2022-07-18T00:29:20.751453Z",
     "iopub.status.idle": "2022-07-18T00:29:20.755821Z",
     "shell.execute_reply": "2022-07-18T00:29:20.754535Z"
    },
    "papermill": {
     "duration": 0.01766,
     "end_time": "2022-07-18T00:29:20.758153",
     "exception": false,
     "start_time": "2022-07-18T00:29:20.740493",
     "status": "completed"
    },
    "tags": []
   },
   "outputs": [],
   "source": [
    "#q4.hint()\n",
    "#q4.solution()"
   ]
  },
  {
   "cell_type": "markdown",
   "id": "31e92649",
   "metadata": {
    "papermill": {
     "duration": 0.008986,
     "end_time": "2022-07-18T00:29:20.776282",
     "exception": false,
     "start_time": "2022-07-18T00:29:20.767296",
     "status": "completed"
    },
    "tags": []
   },
   "source": [
    "# 5a.\n",
    "\n",
    "The boolean variables `ketchup`, `mustard` and `onion` represent whether a customer wants a particular topping on their hot dog. We want to implement a number of boolean functions that correspond to some yes-or-no questions about the customer's order. For example:"
   ]
  },
  {
   "cell_type": "code",
   "execution_count": 12,
   "id": "8b146a53",
   "metadata": {
    "execution": {
     "iopub.execute_input": "2022-07-18T00:29:20.797022Z",
     "iopub.status.busy": "2022-07-18T00:29:20.796256Z",
     "iopub.status.idle": "2022-07-18T00:29:20.801359Z",
     "shell.execute_reply": "2022-07-18T00:29:20.800578Z"
    },
    "papermill": {
     "duration": 0.017743,
     "end_time": "2022-07-18T00:29:20.803351",
     "exception": false,
     "start_time": "2022-07-18T00:29:20.785608",
     "status": "completed"
    },
    "tags": []
   },
   "outputs": [],
   "source": [
    "def onionless(ketchup, mustard, onion):\n",
    "    \"\"\"Return whether the customer doesn't want onions.\n",
    "    \"\"\"\n",
    "    return not onion"
   ]
  },
  {
   "cell_type": "code",
   "execution_count": 13,
   "id": "31d6f1b9",
   "metadata": {
    "execution": {
     "iopub.execute_input": "2022-07-18T00:29:20.823067Z",
     "iopub.status.busy": "2022-07-18T00:29:20.822357Z",
     "iopub.status.idle": "2022-07-18T00:29:20.830361Z",
     "shell.execute_reply": "2022-07-18T00:29:20.829635Z"
    },
    "papermill": {
     "duration": 0.020136,
     "end_time": "2022-07-18T00:29:20.832417",
     "exception": false,
     "start_time": "2022-07-18T00:29:20.812281",
     "status": "completed"
    },
    "tags": []
   },
   "outputs": [
    {
     "data": {
      "application/javascript": [
       "parent.postMessage({\"jupyterEvent\": \"custom.exercise_interaction\", \"data\": {\"outcomeType\": 1, \"valueTowardsCompletion\": 0.2, \"interactionType\": 1, \"questionType\": 2, \"questionId\": \"5.1_AllToppings\", \"learnToolsVersion\": \"0.3.4\", \"failureMessage\": \"\", \"exceptionClass\": \"\", \"trace\": \"\"}}, \"*\")"
      ],
      "text/plain": [
       "<IPython.core.display.Javascript object>"
      ]
     },
     "metadata": {},
     "output_type": "display_data"
    },
    {
     "data": {
      "text/markdown": [
       "<span style=\"color:#33cc33\">Correct</span>"
      ],
      "text/plain": [
       "Correct"
      ]
     },
     "metadata": {},
     "output_type": "display_data"
    }
   ],
   "source": [
    "def wants_all_toppings(ketchup, mustard, onion):\n",
    "    \"\"\"Return whether the customer wants \"the works\" (all 3 toppings)\n",
    "    \"\"\"\n",
    "    return ketchup and mustard and onion\n",
    "    pass\n",
    "\n",
    "# Check your answer\n",
    "q5.a.check()"
   ]
  },
  {
   "cell_type": "code",
   "execution_count": 14,
   "id": "f95b0665",
   "metadata": {
    "execution": {
     "iopub.execute_input": "2022-07-18T00:29:20.852493Z",
     "iopub.status.busy": "2022-07-18T00:29:20.851870Z",
     "iopub.status.idle": "2022-07-18T00:29:20.860634Z",
     "shell.execute_reply": "2022-07-18T00:29:20.859953Z"
    },
    "papermill": {
     "duration": 0.020855,
     "end_time": "2022-07-18T00:29:20.862423",
     "exception": false,
     "start_time": "2022-07-18T00:29:20.841568",
     "status": "completed"
    },
    "tags": []
   },
   "outputs": [
    {
     "data": {
      "application/javascript": [
       "parent.postMessage({\"jupyterEvent\": \"custom.exercise_interaction\", \"data\": {\"interactionType\": 2, \"questionType\": 2, \"questionId\": \"5.1_AllToppings\", \"learnToolsVersion\": \"0.3.4\", \"valueTowardsCompletion\": 0.0, \"failureMessage\": \"\", \"exceptionClass\": \"\", \"trace\": \"\", \"outcomeType\": 4}}, \"*\")"
      ],
      "text/plain": [
       "<IPython.core.display.Javascript object>"
      ]
     },
     "metadata": {},
     "output_type": "display_data"
    },
    {
     "data": {
      "text/markdown": [
       "<span style=\"color:#3366cc\">Hint:</span> You'll need to use the `and` operator."
      ],
      "text/plain": [
       "Hint: You'll need to use the `and` operator."
      ]
     },
     "metadata": {},
     "output_type": "display_data"
    },
    {
     "data": {
      "application/javascript": [
       "parent.postMessage({\"jupyterEvent\": \"custom.exercise_interaction\", \"data\": {\"interactionType\": 3, \"questionType\": 2, \"questionId\": \"5.1_AllToppings\", \"learnToolsVersion\": \"0.3.4\", \"valueTowardsCompletion\": 0.0, \"failureMessage\": \"\", \"exceptionClass\": \"\", \"trace\": \"\", \"outcomeType\": 4}}, \"*\")"
      ],
      "text/plain": [
       "<IPython.core.display.Javascript object>"
      ]
     },
     "metadata": {},
     "output_type": "display_data"
    },
    {
     "data": {
      "text/markdown": [
       "<span style=\"color:#33cc99\">Solution:</span> \n",
       "```python\n",
       "return ketchup and mustard and onion\n",
       "```"
      ],
      "text/plain": [
       "Solution: \n",
       "```python\n",
       "return ketchup and mustard and onion\n",
       "```"
      ]
     },
     "metadata": {},
     "output_type": "display_data"
    }
   ],
   "source": [
    "q5.a.hint()\n",
    "q5.a.solution()"
   ]
  },
  {
   "cell_type": "markdown",
   "id": "6c9edc7f",
   "metadata": {
    "papermill": {
     "duration": 0.009006,
     "end_time": "2022-07-18T00:29:20.880666",
     "exception": false,
     "start_time": "2022-07-18T00:29:20.871660",
     "status": "completed"
    },
    "tags": []
   },
   "source": [
    "# 5b.\n",
    "\n",
    "For the next function, fill in the body to match the English description in the docstring. "
   ]
  },
  {
   "cell_type": "code",
   "execution_count": 15,
   "id": "71b7f833",
   "metadata": {
    "execution": {
     "iopub.execute_input": "2022-07-18T00:29:20.900929Z",
     "iopub.status.busy": "2022-07-18T00:29:20.900272Z",
     "iopub.status.idle": "2022-07-18T00:29:20.907341Z",
     "shell.execute_reply": "2022-07-18T00:29:20.906647Z"
    },
    "papermill": {
     "duration": 0.019247,
     "end_time": "2022-07-18T00:29:20.909122",
     "exception": false,
     "start_time": "2022-07-18T00:29:20.889875",
     "status": "completed"
    },
    "tags": []
   },
   "outputs": [
    {
     "data": {
      "application/javascript": [
       "parent.postMessage({\"jupyterEvent\": \"custom.exercise_interaction\", \"data\": {\"outcomeType\": 1, \"valueTowardsCompletion\": 0.2, \"interactionType\": 1, \"questionType\": 2, \"questionId\": \"5.2_PlainDog\", \"learnToolsVersion\": \"0.3.4\", \"failureMessage\": \"\", \"exceptionClass\": \"\", \"trace\": \"\"}}, \"*\")"
      ],
      "text/plain": [
       "<IPython.core.display.Javascript object>"
      ]
     },
     "metadata": {},
     "output_type": "display_data"
    },
    {
     "data": {
      "text/markdown": [
       "<span style=\"color:#33cc33\">Correct:</span> \n",
       "\n",
       "One solution looks like:\n",
       "```python\n",
       "return not ketchup and not mustard and not onion\n",
       "```\n",
       "\n",
       "We can also [\"factor out\" the nots](https://en.wikipedia.org/wiki/De_Morgan%27s_laws) to get:\n",
       "\n",
       "```python\n",
       "return not (ketchup or mustard or onion)\n",
       "```"
      ],
      "text/plain": [
       "Correct: \n",
       "\n",
       "One solution looks like:\n",
       "```python\n",
       "return not ketchup and not mustard and not onion\n",
       "```\n",
       "\n",
       "We can also [\"factor out\" the nots](https://en.wikipedia.org/wiki/De_Morgan%27s_laws) to get:\n",
       "\n",
       "```python\n",
       "return not (ketchup or mustard or onion)\n",
       "```"
      ]
     },
     "metadata": {},
     "output_type": "display_data"
    }
   ],
   "source": [
    "def wants_plain_hotdog(ketchup, mustard, onion):\n",
    "    \"\"\"Return whether the customer wants a plain hot dog with no toppings.\n",
    "    \n",
    "    >>> not (ketchup and mustard and onion)\n",
    "    \"\"\"\n",
    "    return not ketchup and not mustard and not onion\n",
    "    pass\n",
    "# Check your answer\n",
    "q5.b.check()"
   ]
  },
  {
   "cell_type": "code",
   "execution_count": 16,
   "id": "e4cf8b1d",
   "metadata": {
    "execution": {
     "iopub.execute_input": "2022-07-18T00:29:20.930780Z",
     "iopub.status.busy": "2022-07-18T00:29:20.930069Z",
     "iopub.status.idle": "2022-07-18T00:29:20.933547Z",
     "shell.execute_reply": "2022-07-18T00:29:20.932835Z"
    },
    "papermill": {
     "duration": 0.016305,
     "end_time": "2022-07-18T00:29:20.935449",
     "exception": false,
     "start_time": "2022-07-18T00:29:20.919144",
     "status": "completed"
    },
    "tags": []
   },
   "outputs": [],
   "source": [
    "#q5.b.hint()\n",
    "#q5.b.solution()"
   ]
  },
  {
   "cell_type": "markdown",
   "id": "13fdf817",
   "metadata": {
    "papermill": {
     "duration": 0.009197,
     "end_time": "2022-07-18T00:29:20.954348",
     "exception": false,
     "start_time": "2022-07-18T00:29:20.945151",
     "status": "completed"
    },
    "tags": []
   },
   "source": [
    "# 5c.\n",
    "\n",
    "You know what to do: for the next function, fill in the body to match the English description in the docstring."
   ]
  },
  {
   "cell_type": "code",
   "execution_count": 17,
   "id": "efda2870",
   "metadata": {
    "execution": {
     "iopub.execute_input": "2022-07-18T00:29:20.975247Z",
     "iopub.status.busy": "2022-07-18T00:29:20.974546Z",
     "iopub.status.idle": "2022-07-18T00:29:20.982065Z",
     "shell.execute_reply": "2022-07-18T00:29:20.981179Z"
    },
    "papermill": {
     "duration": 0.020164,
     "end_time": "2022-07-18T00:29:20.983988",
     "exception": false,
     "start_time": "2022-07-18T00:29:20.963824",
     "status": "completed"
    },
    "tags": []
   },
   "outputs": [
    {
     "data": {
      "application/javascript": [
       "parent.postMessage({\"jupyterEvent\": \"custom.exercise_interaction\", \"data\": {\"outcomeType\": 1, \"valueTowardsCompletion\": 0.2, \"interactionType\": 1, \"questionType\": 2, \"questionId\": \"5.3_OneSauce\", \"learnToolsVersion\": \"0.3.4\", \"failureMessage\": \"\", \"exceptionClass\": \"\", \"trace\": \"\"}}, \"*\")"
      ],
      "text/plain": [
       "<IPython.core.display.Javascript object>"
      ]
     },
     "metadata": {},
     "output_type": "display_data"
    },
    {
     "data": {
      "text/markdown": [
       "<span style=\"color:#33cc33\">Correct</span>"
      ],
      "text/plain": [
       "Correct"
      ]
     },
     "metadata": {},
     "output_type": "display_data"
    }
   ],
   "source": [
    "def exactly_one_sauce(ketchup, mustard, onion):\n",
    "    \"\"\"Return whether the customer wants either ketchup or mustard, but not both.\n",
    "    (You may be familiar with this operation under the name \"exclusive or\")\n",
    "    \"\"\"\n",
    "    return (ketchup or mustard) and not(ketchup and mustard)\n",
    "    pass\n",
    "\n",
    "# Check your answer\n",
    "q5.c.check()"
   ]
  },
  {
   "cell_type": "code",
   "execution_count": 18,
   "id": "72abee10",
   "metadata": {
    "execution": {
     "iopub.execute_input": "2022-07-18T00:29:21.005741Z",
     "iopub.status.busy": "2022-07-18T00:29:21.005149Z",
     "iopub.status.idle": "2022-07-18T00:29:21.008397Z",
     "shell.execute_reply": "2022-07-18T00:29:21.007691Z"
    },
    "papermill": {
     "duration": 0.016363,
     "end_time": "2022-07-18T00:29:21.010322",
     "exception": false,
     "start_time": "2022-07-18T00:29:20.993959",
     "status": "completed"
    },
    "tags": []
   },
   "outputs": [],
   "source": [
    "#q5.c.hint()\n",
    "#q5.c.solution()"
   ]
  },
  {
   "cell_type": "markdown",
   "id": "18b11901",
   "metadata": {
    "papermill": {
     "duration": 0.009728,
     "end_time": "2022-07-18T00:29:21.029843",
     "exception": false,
     "start_time": "2022-07-18T00:29:21.020115",
     "status": "completed"
    },
    "tags": []
   },
   "source": [
    "# 6. <span title=\"A bit spicy\" style=\"color: darkgreen \">🌶️</span>\n",
    "\n",
    "We’ve seen that calling `bool()` on an integer returns `False` if it’s equal to 0 and `True` otherwise. What happens if we call `int()` on a bool? Try it out in the notebook cell below.\n",
    "\n",
    "Can you take advantage of this to write a succinct function that corresponds to the English sentence \"does the customer want exactly one topping?\"?"
   ]
  },
  {
   "cell_type": "code",
   "execution_count": 19,
   "id": "2ef921fe",
   "metadata": {
    "execution": {
     "iopub.execute_input": "2022-07-18T00:29:21.057192Z",
     "iopub.status.busy": "2022-07-18T00:29:21.056507Z",
     "iopub.status.idle": "2022-07-18T00:29:21.063529Z",
     "shell.execute_reply": "2022-07-18T00:29:21.062295Z"
    },
    "papermill": {
     "duration": 0.023371,
     "end_time": "2022-07-18T00:29:21.066459",
     "exception": false,
     "start_time": "2022-07-18T00:29:21.043088",
     "status": "completed"
    },
    "tags": []
   },
   "outputs": [
    {
     "name": "stdout",
     "output_type": "stream",
     "text": [
      "1\n"
     ]
    }
   ],
   "source": [
    "print(int(True))"
   ]
  },
  {
   "cell_type": "code",
   "execution_count": 20,
   "id": "6f63daca",
   "metadata": {
    "execution": {
     "iopub.execute_input": "2022-07-18T00:29:21.099851Z",
     "iopub.status.busy": "2022-07-18T00:29:21.098509Z",
     "iopub.status.idle": "2022-07-18T00:29:21.111066Z",
     "shell.execute_reply": "2022-07-18T00:29:21.109793Z"
    },
    "papermill": {
     "duration": 0.033279,
     "end_time": "2022-07-18T00:29:21.113878",
     "exception": false,
     "start_time": "2022-07-18T00:29:21.080599",
     "status": "completed"
    },
    "tags": []
   },
   "outputs": [
    {
     "data": {
      "application/javascript": [
       "parent.postMessage({\"jupyterEvent\": \"custom.exercise_interaction\", \"data\": {\"outcomeType\": 1, \"valueTowardsCompletion\": 0.2, \"interactionType\": 1, \"questionType\": 2, \"questionId\": \"6_OneTopping\", \"learnToolsVersion\": \"0.3.4\", \"failureMessage\": \"\", \"exceptionClass\": \"\", \"trace\": \"\"}}, \"*\")"
      ],
      "text/plain": [
       "<IPython.core.display.Javascript object>"
      ]
     },
     "metadata": {},
     "output_type": "display_data"
    },
    {
     "data": {
      "text/markdown": [
       "<span style=\"color:#33cc33\">Correct:</span> \n",
       "\n",
       "This condition would be pretty complicated to express using just `and`, `or` and `not`, but using boolean-to-integer conversion gives us this short solution:\n",
       "```python\n",
       "return (int(ketchup) + int(mustard) + int(onion)) == 1\n",
       "```\n",
       "\n",
       "Fun fact: we don't technically need to call `int` on the arguments. Just by doing addition with booleans, Python implicitly does the integer conversion. So we could also write...\n",
       "\n",
       "```python\n",
       "return (ketchup + mustard + onion) == 1\n",
       "```"
      ],
      "text/plain": [
       "Correct: \n",
       "\n",
       "This condition would be pretty complicated to express using just `and`, `or` and `not`, but using boolean-to-integer conversion gives us this short solution:\n",
       "```python\n",
       "return (int(ketchup) + int(mustard) + int(onion)) == 1\n",
       "```\n",
       "\n",
       "Fun fact: we don't technically need to call `int` on the arguments. Just by doing addition with booleans, Python implicitly does the integer conversion. So we could also write...\n",
       "\n",
       "```python\n",
       "return (ketchup + mustard + onion) == 1\n",
       "```"
      ]
     },
     "metadata": {},
     "output_type": "display_data"
    }
   ],
   "source": [
    "def exactly_one_topping(ketchup, mustard, onion):\n",
    "    \"\"\"Return whether the customer wants exactly one of the three available toppings\n",
    "    on their hot dog.\n",
    "    \"\"\"\n",
    "    ketchup_int = int(ketchup)\n",
    "    mustard_int = int(mustard)\n",
    "    onion_int = int(onion)\n",
    "    sum_topping = ketchup_int + mustard_int + onion_int\n",
    "    if sum_topping == 1:\n",
    "        return sum_topping\n",
    "    else:\n",
    "        return False\n",
    "    pass\n",
    "\n",
    "# Check your answer\n",
    "q6.check()"
   ]
  },
  {
   "cell_type": "code",
   "execution_count": 21,
   "id": "35c4f3d7",
   "metadata": {
    "execution": {
     "iopub.execute_input": "2022-07-18T00:29:21.143954Z",
     "iopub.status.busy": "2022-07-18T00:29:21.143049Z",
     "iopub.status.idle": "2022-07-18T00:29:21.147898Z",
     "shell.execute_reply": "2022-07-18T00:29:21.147013Z"
    },
    "papermill": {
     "duration": 0.023749,
     "end_time": "2022-07-18T00:29:21.150177",
     "exception": false,
     "start_time": "2022-07-18T00:29:21.126428",
     "status": "completed"
    },
    "tags": []
   },
   "outputs": [],
   "source": [
    "#q6.hint()\n",
    "#q6.solution()"
   ]
  },
  {
   "cell_type": "markdown",
   "id": "caa633b5",
   "metadata": {
    "papermill": {
     "duration": 0.01021,
     "end_time": "2022-07-18T00:29:21.171936",
     "exception": false,
     "start_time": "2022-07-18T00:29:21.161726",
     "status": "completed"
    },
    "tags": []
   },
   "source": [
    "# 7. <span title=\"A bit spicy\" style=\"color: darkgreen \">🌶️</span> (Optional)\n",
    "\n",
    "In this problem we'll be working with a simplified version of [blackjack](https://en.wikipedia.org/wiki/Blackjack) (aka twenty-one). In this version there is one player (who you'll control) and a dealer. Play proceeds as follows:\n",
    "\n",
    "- The player is dealt two face-up cards. The dealer is dealt one face-up card.\n",
    "- The player may ask to be dealt another card ('hit') as many times as they wish. If the sum of their cards exceeds 21, they lose the round immediately.\n",
    "- The dealer then deals additional cards to himself until either:\n",
    "    - the sum of the dealer's cards exceeds 21, in which case the player wins the round\n",
    "    - the sum of the dealer's cards is greater than or equal to 17. If the player's total is greater than the dealer's, the player wins. Otherwise, the dealer wins (even in case of a tie).\n",
    "    \n",
    "When calculating the sum of cards, Jack, Queen, and King count for 10. Aces can count as 1 or 11 (when referring to a player's \"total\" above, we mean the largest total that can be made without exceeding 21. So e.g. A+8 = 19, A+8+8 = 17)\n",
    "\n",
    "For this problem, you'll write a function representing the player's decision-making strategy in this game. We've provided a very unintelligent implementation below:"
   ]
  },
  {
   "cell_type": "code",
   "execution_count": 22,
   "id": "f1d96eaf",
   "metadata": {
    "execution": {
     "iopub.execute_input": "2022-07-18T00:29:21.194254Z",
     "iopub.status.busy": "2022-07-18T00:29:21.193583Z",
     "iopub.status.idle": "2022-07-18T00:29:21.199105Z",
     "shell.execute_reply": "2022-07-18T00:29:21.198146Z"
    },
    "papermill": {
     "duration": 0.019526,
     "end_time": "2022-07-18T00:29:21.201682",
     "exception": false,
     "start_time": "2022-07-18T00:29:21.182156",
     "status": "completed"
    },
    "tags": []
   },
   "outputs": [],
   "source": [
    "def should_hit(dealer_total, player_total, player_low_aces, player_high_aces):\n",
    "    \"\"\"Return True if the player should hit (request another card) given the current game\n",
    "    state, or False if the player should stay.\n",
    "    When calculating a hand's total value, we count aces as \"high\" (with value 11) if doing so\n",
    "    doesn't bring the total above 21, otherwise we count them as low (with value 1). \n",
    "    For example, if the player's hand is {A, A, A, 7}, we will count it as 11 + 1 + 1 + 7,\n",
    "    and therefore set player_total=20, player_low_aces=2, player_high_aces=1.\n",
    "    \"\"\"\n",
    "    return False"
   ]
  },
  {
   "cell_type": "markdown",
   "id": "c2d7750d",
   "metadata": {
    "papermill": {
     "duration": 0.010075,
     "end_time": "2022-07-18T00:29:21.222736",
     "exception": false,
     "start_time": "2022-07-18T00:29:21.212661",
     "status": "completed"
    },
    "tags": []
   },
   "source": [
    "This very conservative agent *always* sticks with the hand of two cards that they're dealt.\n",
    "\n",
    "We'll be simulating games between your player agent and our own dealer agent by calling your function.\n",
    "\n",
    "Try running the function below to see an example of a simulated game:"
   ]
  },
  {
   "cell_type": "code",
   "execution_count": 23,
   "id": "053137c3",
   "metadata": {
    "execution": {
     "iopub.execute_input": "2022-07-18T00:29:21.245142Z",
     "iopub.status.busy": "2022-07-18T00:29:21.244488Z",
     "iopub.status.idle": "2022-07-18T00:29:21.251171Z",
     "shell.execute_reply": "2022-07-18T00:29:21.249543Z"
    },
    "papermill": {
     "duration": 0.021428,
     "end_time": "2022-07-18T00:29:21.254320",
     "exception": false,
     "start_time": "2022-07-18T00:29:21.232892",
     "status": "completed"
    },
    "tags": []
   },
   "outputs": [
    {
     "name": "stdout",
     "output_type": "stream",
     "text": [
      "Player starts with K and 7 (total = 17)\n",
      "Dealer starts with J\n",
      "\n",
      "__Player's turn__\n",
      "Player stays\n",
      "\n",
      "__Dealer's turn__\n",
      "Dealer hits and receives 10. (total = 20)\n",
      "Dealer stands.\n",
      "Dealer wins. 20 >= 17\n"
     ]
    }
   ],
   "source": [
    "q7.simulate_one_game()"
   ]
  },
  {
   "cell_type": "markdown",
   "id": "867bc70e",
   "metadata": {
    "papermill": {
     "duration": 0.009827,
     "end_time": "2022-07-18T00:29:21.274957",
     "exception": false,
     "start_time": "2022-07-18T00:29:21.265130",
     "status": "completed"
    },
    "tags": []
   },
   "source": [
    "The real test of your agent's mettle is their average win rate over many games. Try calling the function below to simulate 50000 games of blackjack (it may take a couple seconds):"
   ]
  },
  {
   "cell_type": "code",
   "execution_count": 24,
   "id": "74d81f15",
   "metadata": {
    "execution": {
     "iopub.execute_input": "2022-07-18T00:29:21.297888Z",
     "iopub.status.busy": "2022-07-18T00:29:21.296963Z",
     "iopub.status.idle": "2022-07-18T00:29:22.537200Z",
     "shell.execute_reply": "2022-07-18T00:29:22.535601Z"
    },
    "papermill": {
     "duration": 1.255559,
     "end_time": "2022-07-18T00:29:22.540707",
     "exception": false,
     "start_time": "2022-07-18T00:29:21.285148",
     "status": "completed"
    },
    "tags": []
   },
   "outputs": [
    {
     "name": "stdout",
     "output_type": "stream",
     "text": [
      "Player won 18874 out of 50000 games (win rate = 37.7%)\n"
     ]
    }
   ],
   "source": [
    "q7.simulate(n_games=50000)"
   ]
  },
  {
   "cell_type": "markdown",
   "id": "4a62a7ad",
   "metadata": {
    "papermill": {
     "duration": 0.009903,
     "end_time": "2022-07-18T00:29:22.561435",
     "exception": false,
     "start_time": "2022-07-18T00:29:22.551532",
     "status": "completed"
    },
    "tags": []
   },
   "source": [
    "Our dumb agent that completely ignores the game state still manages to win shockingly often!\n",
    "\n",
    "Try adding some more smarts to the `should_hit` function and see how it affects the results."
   ]
  },
  {
   "cell_type": "code",
   "execution_count": 25,
   "id": "c9a43e6d",
   "metadata": {
    "execution": {
     "iopub.execute_input": "2022-07-18T00:29:22.583817Z",
     "iopub.status.busy": "2022-07-18T00:29:22.583119Z",
     "iopub.status.idle": "2022-07-18T00:29:23.812835Z",
     "shell.execute_reply": "2022-07-18T00:29:23.811552Z"
    },
    "papermill": {
     "duration": 1.243482,
     "end_time": "2022-07-18T00:29:23.815056",
     "exception": false,
     "start_time": "2022-07-18T00:29:22.571574",
     "status": "completed"
    },
    "tags": []
   },
   "outputs": [
    {
     "name": "stdout",
     "output_type": "stream",
     "text": [
      "Player won 18996 out of 50000 games (win rate = 38.0%)\n"
     ]
    }
   ],
   "source": [
    "def should_hit(dealer_total, player_total, player_low_aces, player_high_aces):\n",
    "    \"\"\"Return True if the player should hit (request another card) given the current game\n",
    "    state, or False if the player should stay.\n",
    "    When calculating a hand's total value, we count aces as \"high\" (with value 11) if doing so\n",
    "    doesn't bring the total above 21, otherwise we count them as low (with value 1). \n",
    "    For example, if the player's hand is {A, A, A, 7}, we will count it as 11 + 1 + 1 + 7,\n",
    "    and therefore set player_total=20, player_low_aces=2, player_high_aces=1.\n",
    "    \"\"\"\n",
    "    return False\n",
    "\n",
    "q7.simulate(n_games=50000)"
   ]
  },
  {
   "cell_type": "markdown",
   "id": "b9c5e6bb",
   "metadata": {
    "papermill": {
     "duration": 0.009775,
     "end_time": "2022-07-18T00:29:23.835129",
     "exception": false,
     "start_time": "2022-07-18T00:29:23.825354",
     "status": "completed"
    },
    "tags": []
   },
   "source": [
    "# Keep Going\n",
    "\n",
    "Learn about **[lists and tuples](https://www.kaggle.com/colinmorris/lists)** to handle multiple items of data in a systematic way."
   ]
  },
  {
   "cell_type": "markdown",
   "id": "7f58f955",
   "metadata": {
    "papermill": {
     "duration": 0.009921,
     "end_time": "2022-07-18T00:29:23.855638",
     "exception": false,
     "start_time": "2022-07-18T00:29:23.845717",
     "status": "completed"
    },
    "tags": []
   },
   "source": [
    "---\n",
    "\n",
    "\n",
    "\n",
    "\n",
    "*Have questions or comments? Visit the [course discussion forum](https://www.kaggle.com/learn/python/discussion) to chat with other learners.*"
   ]
  }
 ],
 "metadata": {
  "kernelspec": {
   "display_name": "Python 3",
   "language": "python",
   "name": "python3"
  },
  "language_info": {
   "codemirror_mode": {
    "name": "ipython",
    "version": 3
   },
   "file_extension": ".py",
   "mimetype": "text/x-python",
   "name": "python",
   "nbconvert_exporter": "python",
   "pygments_lexer": "ipython3",
   "version": "3.7.12"
  },
  "papermill": {
   "default_parameters": {},
   "duration": 12.656562,
   "end_time": "2022-07-18T00:29:24.486272",
   "environment_variables": {},
   "exception": null,
   "input_path": "__notebook__.ipynb",
   "output_path": "__notebook__.ipynb",
   "parameters": {},
   "start_time": "2022-07-18T00:29:11.829710",
   "version": "2.3.4"
  }
 },
 "nbformat": 4,
 "nbformat_minor": 5
}

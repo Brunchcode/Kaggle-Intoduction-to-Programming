{
 "cells": [
  {
   "cell_type": "markdown",
   "id": "773abea4",
   "metadata": {
    "papermill": {
     "duration": 0.008839,
     "end_time": "2022-07-17T20:49:47.034438",
     "exception": false,
     "start_time": "2022-07-17T20:49:47.025599",
     "status": "completed"
    },
    "tags": []
   },
   "source": [
    "**This notebook is an exercise in the [Python](https://www.kaggle.com/learn/python) course.  You can reference the tutorial at [this link](https://www.kaggle.com/colinmorris/functions-and-getting-help).**\n",
    "\n",
    "---\n"
   ]
  },
  {
   "cell_type": "markdown",
   "id": "4308d453",
   "metadata": {
    "papermill": {
     "duration": 0.005737,
     "end_time": "2022-07-17T20:49:47.046387",
     "exception": false,
     "start_time": "2022-07-17T20:49:47.040650",
     "status": "completed"
    },
    "tags": []
   },
   "source": [
    "Functions are powerful. Try writing some yourself.\n",
    "\n",
    "As before, don't forget to run the setup code below before jumping into question 1."
   ]
  },
  {
   "cell_type": "code",
   "execution_count": 1,
   "id": "d879af8f",
   "metadata": {
    "_kg_hide-input": true,
    "_kg_hide-output": true,
    "execution": {
     "iopub.execute_input": "2022-07-17T20:49:47.063454Z",
     "iopub.status.busy": "2022-07-17T20:49:47.063009Z",
     "iopub.status.idle": "2022-07-17T20:49:47.112116Z",
     "shell.execute_reply": "2022-07-17T20:49:47.110793Z"
    },
    "papermill": {
     "duration": 0.061787,
     "end_time": "2022-07-17T20:49:47.115063",
     "exception": false,
     "start_time": "2022-07-17T20:49:47.053276",
     "status": "completed"
    },
    "tags": []
   },
   "outputs": [
    {
     "name": "stdout",
     "output_type": "stream",
     "text": [
      "Setup complete.\n"
     ]
    }
   ],
   "source": [
    "# SETUP. You don't need to worry for now about what this code does or how it works.\n",
    "from learntools.core import binder; binder.bind(globals())\n",
    "from learntools.python.ex2 import *\n",
    "print('Setup complete.')"
   ]
  },
  {
   "cell_type": "markdown",
   "id": "707209db",
   "metadata": {
    "papermill": {
     "duration": 0.005783,
     "end_time": "2022-07-17T20:49:47.126912",
     "exception": false,
     "start_time": "2022-07-17T20:49:47.121129",
     "status": "completed"
    },
    "tags": []
   },
   "source": [
    "# 1.\n",
    "\n",
    "Complete the body of the following function according to its docstring.\n",
    "\n",
    "HINT: Python has a built-in function `round`."
   ]
  },
  {
   "cell_type": "code",
   "execution_count": 2,
   "id": "1dd81a14",
   "metadata": {
    "execution": {
     "iopub.execute_input": "2022-07-17T20:49:47.140905Z",
     "iopub.status.busy": "2022-07-17T20:49:47.140099Z",
     "iopub.status.idle": "2022-07-17T20:49:47.147515Z",
     "shell.execute_reply": "2022-07-17T20:49:47.146191Z"
    },
    "papermill": {
     "duration": 0.017377,
     "end_time": "2022-07-17T20:49:47.150137",
     "exception": false,
     "start_time": "2022-07-17T20:49:47.132760",
     "status": "completed"
    },
    "tags": []
   },
   "outputs": [
    {
     "name": "stdout",
     "output_type": "stream",
     "text": [
      "Help on built-in function round in module builtins:\n",
      "\n",
      "round(number, ndigits=None)\n",
      "    Round a number to a given precision in decimal digits.\n",
      "    \n",
      "    The return value is an integer if ndigits is omitted or None.  Otherwise\n",
      "    the return value has the same type as the number.  ndigits may be negative.\n",
      "\n"
     ]
    }
   ],
   "source": [
    "help(round)"
   ]
  },
  {
   "cell_type": "code",
   "execution_count": 3,
   "id": "f19410ce",
   "metadata": {
    "execution": {
     "iopub.execute_input": "2022-07-17T20:49:47.164391Z",
     "iopub.status.busy": "2022-07-17T20:49:47.164005Z",
     "iopub.status.idle": "2022-07-17T20:49:47.177904Z",
     "shell.execute_reply": "2022-07-17T20:49:47.176264Z"
    },
    "papermill": {
     "duration": 0.023731,
     "end_time": "2022-07-17T20:49:47.180209",
     "exception": false,
     "start_time": "2022-07-17T20:49:47.156478",
     "status": "completed"
    },
    "tags": []
   },
   "outputs": [
    {
     "data": {
      "application/javascript": [
       "parent.postMessage({\"jupyterEvent\": \"custom.exercise_interaction\", \"data\": {\"outcomeType\": 1, \"valueTowardsCompletion\": 0.16666666666666666, \"interactionType\": 1, \"questionType\": 2, \"questionId\": \"1_RoundFunctionProblem\", \"learnToolsVersion\": \"0.3.4\", \"failureMessage\": \"\", \"exceptionClass\": \"\", \"trace\": \"\"}}, \"*\")"
      ],
      "text/plain": [
       "<IPython.core.display.Javascript object>"
      ]
     },
     "metadata": {},
     "output_type": "display_data"
    },
    {
     "data": {
      "text/markdown": [
       "<span style=\"color:#33cc33\">Correct</span>"
      ],
      "text/plain": [
       "Correct"
      ]
     },
     "metadata": {},
     "output_type": "display_data"
    }
   ],
   "source": [
    "def round_to_two_places(num):\n",
    "    \"\"\"Return the given number rounded to two decimal places. \n",
    "    \n",
    "    >>> round_to_two_places(3.14159)\n",
    "    3.14\n",
    "    \"\"\"\n",
    "    # Replace this body with your own code.\n",
    "    rounded = round(num,ndigits = 2)\n",
    "    return rounded\n",
    "    # (\"pass\" is a keyword that does literally nothing. We used it as a placeholder\n",
    "    # because after we begin a code block, Python requires at least one line of code)\n",
    "    pass\n",
    "\n",
    "# Check your answer\n",
    "q1.check()"
   ]
  },
  {
   "cell_type": "code",
   "execution_count": 4,
   "id": "08db4bbd",
   "metadata": {
    "execution": {
     "iopub.execute_input": "2022-07-17T20:49:47.194486Z",
     "iopub.status.busy": "2022-07-17T20:49:47.194107Z",
     "iopub.status.idle": "2022-07-17T20:49:47.198842Z",
     "shell.execute_reply": "2022-07-17T20:49:47.197653Z"
    },
    "papermill": {
     "duration": 0.014811,
     "end_time": "2022-07-17T20:49:47.201259",
     "exception": false,
     "start_time": "2022-07-17T20:49:47.186448",
     "status": "completed"
    },
    "tags": []
   },
   "outputs": [],
   "source": [
    "# Uncomment the following for a hint\n",
    "#q1.hint()\n",
    "# Or uncomment the following to peek at the solution\n",
    "#q1.solution()"
   ]
  },
  {
   "cell_type": "markdown",
   "id": "235d42ee",
   "metadata": {
    "papermill": {
     "duration": 0.006701,
     "end_time": "2022-07-17T20:49:47.215026",
     "exception": false,
     "start_time": "2022-07-17T20:49:47.208325",
     "status": "completed"
    },
    "tags": []
   },
   "source": [
    "# 2.\n",
    "The help for `round` says that `ndigits` (the second argument) may be negative.\n",
    "What do you think will happen when it is? Try some examples in the following cell."
   ]
  },
  {
   "cell_type": "code",
   "execution_count": 5,
   "id": "97a43407",
   "metadata": {
    "execution": {
     "iopub.execute_input": "2022-07-17T20:49:47.230235Z",
     "iopub.status.busy": "2022-07-17T20:49:47.229871Z",
     "iopub.status.idle": "2022-07-17T20:49:47.235494Z",
     "shell.execute_reply": "2022-07-17T20:49:47.234234Z"
    },
    "papermill": {
     "duration": 0.016126,
     "end_time": "2022-07-17T20:49:47.237783",
     "exception": false,
     "start_time": "2022-07-17T20:49:47.221657",
     "status": "completed"
    },
    "tags": []
   },
   "outputs": [
    {
     "name": "stdout",
     "output_type": "stream",
     "text": [
      "2560.0\n"
     ]
    }
   ],
   "source": [
    "# Put your test code here\n",
    "v = round(2555.225, ndigits = -1)\n",
    "print(v)"
   ]
  },
  {
   "cell_type": "markdown",
   "id": "a245c17b",
   "metadata": {
    "papermill": {
     "duration": 0.006236,
     "end_time": "2022-07-17T20:49:47.250333",
     "exception": false,
     "start_time": "2022-07-17T20:49:47.244097",
     "status": "completed"
    },
    "tags": []
   },
   "source": [
    "Can you think of a case where this would be useful?  Once you're ready, run the code cell below to see the answer and to receive credit for completing the problem."
   ]
  },
  {
   "cell_type": "code",
   "execution_count": 6,
   "id": "6edc09cc",
   "metadata": {
    "execution": {
     "iopub.execute_input": "2022-07-17T20:49:47.265800Z",
     "iopub.status.busy": "2022-07-17T20:49:47.264677Z",
     "iopub.status.idle": "2022-07-17T20:49:47.274277Z",
     "shell.execute_reply": "2022-07-17T20:49:47.273063Z"
    },
    "papermill": {
     "duration": 0.019396,
     "end_time": "2022-07-17T20:49:47.276422",
     "exception": false,
     "start_time": "2022-07-17T20:49:47.257026",
     "status": "completed"
    },
    "tags": []
   },
   "outputs": [
    {
     "data": {
      "application/javascript": [
       "parent.postMessage({\"jupyterEvent\": \"custom.exercise_interaction\", \"data\": {\"interactionType\": 3, \"questionType\": 4, \"questionId\": \"2_RoundNdigitsProblem\", \"learnToolsVersion\": \"0.3.4\", \"valueTowardsCompletion\": 0.0, \"failureMessage\": \"\", \"exceptionClass\": \"\", \"trace\": \"\", \"outcomeType\": 4}}, \"*\")"
      ],
      "text/plain": [
       "<IPython.core.display.Javascript object>"
      ]
     },
     "metadata": {},
     "output_type": "display_data"
    },
    {
     "data": {
      "text/markdown": [
       "<span style=\"color:#33cc99\">Solution:</span> As you've seen, `ndigits=-1` rounds to the nearest 10, `ndigits=-2` rounds to the nearest 100 and so on. Where might this be useful? Suppose we're dealing with large numbers:\n",
       "\n",
       "> The area of Finland is 338,424 km²  \n",
       "> The area of Greenland is 2,166,086 km²\n",
       "\n",
       "We probably don't care whether it's really 338,424, or 338,425, or 338,177. All those digits of accuracy are just distracting. We can chop them off by calling `round()` with `ndigits=-3`:\n",
       "\n",
       "> The area of Finland is 338,000 km²  \n",
       "> The area of Greenland is 2,166,000 km²\n",
       "\n",
       "(We'll talk about how we would get the commas later when we talk about string formatting :))\n"
      ],
      "text/plain": [
       "Solution: As you've seen, `ndigits=-1` rounds to the nearest 10, `ndigits=-2` rounds to the nearest 100 and so on. Where might this be useful? Suppose we're dealing with large numbers:\n",
       "\n",
       "> The area of Finland is 338,424 km²  \n",
       "> The area of Greenland is 2,166,086 km²\n",
       "\n",
       "We probably don't care whether it's really 338,424, or 338,425, or 338,177. All those digits of accuracy are just distracting. We can chop them off by calling `round()` with `ndigits=-3`:\n",
       "\n",
       "> The area of Finland is 338,000 km²  \n",
       "> The area of Greenland is 2,166,000 km²\n",
       "\n",
       "(We'll talk about how we would get the commas later when we talk about string formatting :))"
      ]
     },
     "metadata": {},
     "output_type": "display_data"
    }
   ],
   "source": [
    "# Check your answer (Run this code cell to receive credit!)\n",
    "q2.solution()"
   ]
  },
  {
   "cell_type": "code",
   "execution_count": 7,
   "id": "f654e984",
   "metadata": {
    "execution": {
     "iopub.execute_input": "2022-07-17T20:49:47.291964Z",
     "iopub.status.busy": "2022-07-17T20:49:47.291573Z",
     "iopub.status.idle": "2022-07-17T20:49:47.297104Z",
     "shell.execute_reply": "2022-07-17T20:49:47.295853Z"
    },
    "papermill": {
     "duration": 0.016621,
     "end_time": "2022-07-17T20:49:47.299866",
     "exception": false,
     "start_time": "2022-07-17T20:49:47.283245",
     "status": "completed"
    },
    "tags": []
   },
   "outputs": [
    {
     "name": "stdout",
     "output_type": "stream",
     "text": [
      "338000\n",
      "2166000\n"
     ]
    }
   ],
   "source": [
    "print(round(338424, ndigits = -3))\n",
    "print(round(2166086, ndigits = -3))"
   ]
  },
  {
   "cell_type": "markdown",
   "id": "9905961e",
   "metadata": {
    "papermill": {
     "duration": 0.006773,
     "end_time": "2022-07-17T20:49:47.313693",
     "exception": false,
     "start_time": "2022-07-17T20:49:47.306920",
     "status": "completed"
    },
    "tags": []
   },
   "source": [
    "# 3.\n",
    "\n",
    "In the previous exercise, the candy-sharing friends Alice, Bob and Carol tried to split candies evenly. For the sake of their friendship, any candies left over would be smashed. For example, if they collectively bring home 91 candies, they'll take 30 each and smash 1.\n",
    "\n",
    "Below is a simple function that will calculate the number of candies to smash for *any* number of total candies.\n",
    "\n",
    "Modify it so that it optionally takes a second argument representing the number of friends the candies are being split between. If no second argument is provided, it should assume 3 friends, as before.\n",
    "\n",
    "Update the docstring to reflect this new behaviour."
   ]
  },
  {
   "cell_type": "code",
   "execution_count": 8,
   "id": "7c1dc424",
   "metadata": {
    "execution": {
     "iopub.execute_input": "2022-07-17T20:49:47.329968Z",
     "iopub.status.busy": "2022-07-17T20:49:47.329550Z",
     "iopub.status.idle": "2022-07-17T20:49:47.337823Z",
     "shell.execute_reply": "2022-07-17T20:49:47.336949Z"
    },
    "papermill": {
     "duration": 0.019359,
     "end_time": "2022-07-17T20:49:47.340153",
     "exception": false,
     "start_time": "2022-07-17T20:49:47.320794",
     "status": "completed"
    },
    "tags": []
   },
   "outputs": [
    {
     "data": {
      "application/javascript": [
       "parent.postMessage({\"jupyterEvent\": \"custom.exercise_interaction\", \"data\": {\"outcomeType\": 1, \"valueTowardsCompletion\": 0.16666666666666666, \"interactionType\": 1, \"questionType\": 2, \"questionId\": \"3_CandySmashingFunctionProblem\", \"learnToolsVersion\": \"0.3.4\", \"failureMessage\": \"\", \"exceptionClass\": \"\", \"trace\": \"\"}}, \"*\")"
      ],
      "text/plain": [
       "<IPython.core.display.Javascript object>"
      ]
     },
     "metadata": {},
     "output_type": "display_data"
    },
    {
     "data": {
      "text/markdown": [
       "<span style=\"color:#33cc33\">Correct</span>"
      ],
      "text/plain": [
       "Correct"
      ]
     },
     "metadata": {},
     "output_type": "display_data"
    }
   ],
   "source": [
    "def to_smash(total_candies, num_of_friends = 3):\n",
    "    \"\"\"Return the number of leftover candies that must be smashed after distributing\n",
    "    the given number of candies evenly between 3 friends.\n",
    "    \n",
    "    >>> to_smash(91)\n",
    "    1\n",
    "    \"\"\"\n",
    "    return total_candies % num_of_friends\n",
    "\n",
    "# Check your answer\n",
    "q3.check()"
   ]
  },
  {
   "cell_type": "code",
   "execution_count": 9,
   "id": "d824ff63",
   "metadata": {
    "execution": {
     "iopub.execute_input": "2022-07-17T20:49:47.357642Z",
     "iopub.status.busy": "2022-07-17T20:49:47.357213Z",
     "iopub.status.idle": "2022-07-17T20:49:47.365939Z",
     "shell.execute_reply": "2022-07-17T20:49:47.365037Z"
    },
    "papermill": {
     "duration": 0.020101,
     "end_time": "2022-07-17T20:49:47.368107",
     "exception": false,
     "start_time": "2022-07-17T20:49:47.348006",
     "status": "completed"
    },
    "tags": []
   },
   "outputs": [
    {
     "data": {
      "application/javascript": [
       "parent.postMessage({\"jupyterEvent\": \"custom.exercise_interaction\", \"data\": {\"interactionType\": 2, \"questionType\": 2, \"questionId\": \"3_CandySmashingFunctionProblem\", \"learnToolsVersion\": \"0.3.4\", \"valueTowardsCompletion\": 0.0, \"failureMessage\": \"\", \"exceptionClass\": \"\", \"trace\": \"\", \"outcomeType\": 4}}, \"*\")"
      ],
      "text/plain": [
       "<IPython.core.display.Javascript object>"
      ]
     },
     "metadata": {},
     "output_type": "display_data"
    },
    {
     "data": {
      "text/markdown": [
       "<span style=\"color:#3366cc\">Hint:</span> Refer to the section of the last tutorial notebook where we talked about default arguments"
      ],
      "text/plain": [
       "Hint: Refer to the section of the last tutorial notebook where we talked about default arguments"
      ]
     },
     "metadata": {},
     "output_type": "display_data"
    }
   ],
   "source": [
    "q3.hint()"
   ]
  },
  {
   "cell_type": "code",
   "execution_count": 10,
   "id": "3abc0745",
   "metadata": {
    "execution": {
     "iopub.execute_input": "2022-07-17T20:49:47.385184Z",
     "iopub.status.busy": "2022-07-17T20:49:47.384729Z",
     "iopub.status.idle": "2022-07-17T20:49:47.392938Z",
     "shell.execute_reply": "2022-07-17T20:49:47.391993Z"
    },
    "papermill": {
     "duration": 0.019336,
     "end_time": "2022-07-17T20:49:47.395127",
     "exception": false,
     "start_time": "2022-07-17T20:49:47.375791",
     "status": "completed"
    },
    "tags": []
   },
   "outputs": [
    {
     "data": {
      "application/javascript": [
       "parent.postMessage({\"jupyterEvent\": \"custom.exercise_interaction\", \"data\": {\"interactionType\": 3, \"questionType\": 2, \"questionId\": \"3_CandySmashingFunctionProblem\", \"learnToolsVersion\": \"0.3.4\", \"valueTowardsCompletion\": 0.0, \"failureMessage\": \"\", \"exceptionClass\": \"\", \"trace\": \"\", \"outcomeType\": 4}}, \"*\")"
      ],
      "text/plain": [
       "<IPython.core.display.Javascript object>"
      ]
     },
     "metadata": {},
     "output_type": "display_data"
    },
    {
     "data": {
      "text/markdown": [
       "<span style=\"color:#33cc99\">Solution:</span> \n",
       "```python\n",
       "def to_smash(total_candies, n_friends=3):\n",
       "    return total_candies % n_friends\n",
       "```"
      ],
      "text/plain": [
       "Solution: \n",
       "```python\n",
       "def to_smash(total_candies, n_friends=3):\n",
       "    return total_candies % n_friends\n",
       "```"
      ]
     },
     "metadata": {},
     "output_type": "display_data"
    }
   ],
   "source": [
    "q3.solution()"
   ]
  },
  {
   "cell_type": "markdown",
   "id": "28f68fef",
   "metadata": {
    "papermill": {
     "duration": 0.008138,
     "end_time": "2022-07-17T20:49:47.411530",
     "exception": false,
     "start_time": "2022-07-17T20:49:47.403392",
     "status": "completed"
    },
    "tags": []
   },
   "source": [
    "# 4. (Optional)\n",
    "\n",
    "It may not be fun, but reading and understanding error messages will be an important part of your Python career.\n",
    "\n",
    "Each code cell below contains some commented buggy code. For each cell...\n",
    "\n",
    "1. Read the code and predict what you think will happen when it's run.\n",
    "2. Then uncomment the code and run it to see what happens. (**Tip**: In the kernel editor, you can highlight several lines and press `ctrl`+`/` to toggle commenting.)\n",
    "3. Fix the code (so that it accomplishes its intended purpose without throwing an exception)\n",
    "\n",
    "<!-- TODO: should this be autochecked? Delta is probably pretty small. -->"
   ]
  },
  {
   "cell_type": "code",
   "execution_count": 11,
   "id": "a626a083",
   "metadata": {
    "execution": {
     "iopub.execute_input": "2022-07-17T20:49:47.431284Z",
     "iopub.status.busy": "2022-07-17T20:49:47.430624Z",
     "iopub.status.idle": "2022-07-17T20:49:47.435257Z",
     "shell.execute_reply": "2022-07-17T20:49:47.434060Z"
    },
    "papermill": {
     "duration": 0.017458,
     "end_time": "2022-07-17T20:49:47.438147",
     "exception": false,
     "start_time": "2022-07-17T20:49:47.420689",
     "status": "completed"
    },
    "tags": []
   },
   "outputs": [],
   "source": [
    " ruound_to_two_places = round(9.9999, ndigits = 2)"
   ]
  },
  {
   "cell_type": "code",
   "execution_count": 12,
   "id": "757bb7f6",
   "metadata": {
    "execution": {
     "iopub.execute_input": "2022-07-17T20:49:47.456645Z",
     "iopub.status.busy": "2022-07-17T20:49:47.455358Z",
     "iopub.status.idle": "2022-07-17T20:49:47.462883Z",
     "shell.execute_reply": "2022-07-17T20:49:47.461522Z"
    },
    "papermill": {
     "duration": 0.018879,
     "end_time": "2022-07-17T20:49:47.465201",
     "exception": false,
     "start_time": "2022-07-17T20:49:47.446322",
     "status": "completed"
    },
    "tags": []
   },
   "outputs": [
    {
     "name": "stdout",
     "output_type": "stream",
     "text": [
      "5\n"
     ]
    }
   ],
   "source": [
    "x = abs(-10)\n",
    "y = abs(5)\n",
    "# Which of the two variables above has the smallest absolute value?\n",
    "smallest_abs = min(x, y)\n",
    "print(smallest_abs)"
   ]
  },
  {
   "cell_type": "code",
   "execution_count": 13,
   "id": "84ca5bb1",
   "metadata": {
    "execution": {
     "iopub.execute_input": "2022-07-17T20:49:47.483337Z",
     "iopub.status.busy": "2022-07-17T20:49:47.481960Z",
     "iopub.status.idle": "2022-07-17T20:49:47.489240Z",
     "shell.execute_reply": "2022-07-17T20:49:47.487882Z"
    },
    "papermill": {
     "duration": 0.019028,
     "end_time": "2022-07-17T20:49:47.491955",
     "exception": false,
     "start_time": "2022-07-17T20:49:47.472927",
     "status": "completed"
    },
    "tags": []
   },
   "outputs": [
    {
     "name": "stdout",
     "output_type": "stream",
     "text": [
      "5\n"
     ]
    }
   ],
   "source": [
    "def f(x):\n",
    "    y = abs(x)\n",
    "    return y\n",
    "\n",
    "print(f(5))"
   ]
  },
  {
   "cell_type": "markdown",
   "id": "966ff154",
   "metadata": {
    "papermill": {
     "duration": 0.007737,
     "end_time": "2022-07-17T20:49:47.508111",
     "exception": false,
     "start_time": "2022-07-17T20:49:47.500374",
     "status": "completed"
    },
    "tags": []
   },
   "source": [
    "# Keep Going\n",
    "\n",
    "Nice job with the code. Next up, you'll learn about *conditionals*, which you'll need to **[write interesting programs](https://www.kaggle.com/colinmorris/booleans-and-conditionals)**. "
   ]
  },
  {
   "cell_type": "markdown",
   "id": "3bda2ea2",
   "metadata": {
    "papermill": {
     "duration": 0.007561,
     "end_time": "2022-07-17T20:49:47.523528",
     "exception": false,
     "start_time": "2022-07-17T20:49:47.515967",
     "status": "completed"
    },
    "tags": []
   },
   "source": [
    "---\n",
    "\n",
    "\n",
    "\n",
    "\n",
    "*Have questions or comments? Visit the [course discussion forum](https://www.kaggle.com/learn/python/discussion) to chat with other learners.*"
   ]
  }
 ],
 "metadata": {
  "kernelspec": {
   "display_name": "Python 3",
   "language": "python",
   "name": "python3"
  },
  "language_info": {
   "codemirror_mode": {
    "name": "ipython",
    "version": 3
   },
   "file_extension": ".py",
   "mimetype": "text/x-python",
   "name": "python",
   "nbconvert_exporter": "python",
   "pygments_lexer": "ipython3",
   "version": "3.7.12"
  },
  "papermill": {
   "default_parameters": {},
   "duration": 10.604496,
   "end_time": "2022-07-17T20:49:48.153400",
   "environment_variables": {},
   "exception": null,
   "input_path": "__notebook__.ipynb",
   "output_path": "__notebook__.ipynb",
   "parameters": {},
   "start_time": "2022-07-17T20:49:37.548904",
   "version": "2.3.4"
  }
 },
 "nbformat": 4,
 "nbformat_minor": 5
}
